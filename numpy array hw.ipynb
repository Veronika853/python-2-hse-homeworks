{
 "cells": [
  {
   "cell_type": "code",
   "execution_count": 1,
   "id": "bccb3bc2",
   "metadata": {},
   "outputs": [],
   "source": [
    "import numpy as np"
   ]
  },
  {
   "cell_type": "markdown",
   "id": "5d8290f0",
   "metadata": {},
   "source": [
    "### 1. Создать массив из 25 нулей"
   ]
  },
  {
   "cell_type": "code",
   "execution_count": 2,
   "id": "cf3bd5ff",
   "metadata": {},
   "outputs": [
    {
     "data": {
      "text/plain": [
       "[0, 0, 0, 0, 0, 0, 0, 0, 0, 0, 0, 0, 0, 0, 0, 0, 0, 0, 0, 0, 0, 0, 0, 0, 0]"
      ]
     },
     "execution_count": 2,
     "metadata": {},
     "output_type": "execute_result"
    }
   ],
   "source": [
    "a1 = [0 for i in range(25)]\n",
    "a1"
   ]
  },
  {
   "cell_type": "code",
   "execution_count": 3,
   "id": "05c1b773",
   "metadata": {},
   "outputs": [
    {
     "data": {
      "text/plain": [
       "array([0., 0., 0., 0., 0., 0., 0., 0., 0., 0., 0., 0.])"
      ]
     },
     "execution_count": 3,
     "metadata": {},
     "output_type": "execute_result"
    }
   ],
   "source": [
    "a1 = np.zeros(12)\n",
    "a1"
   ]
  },
  {
   "cell_type": "markdown",
   "id": "1bf80184",
   "metadata": {},
   "source": [
    "### 2. Создать массив из 10 единиц +"
   ]
  },
  {
   "cell_type": "code",
   "execution_count": 4,
   "id": "9a66c5a5",
   "metadata": {},
   "outputs": [
    {
     "data": {
      "text/plain": [
       "[1, 1, 1, 1, 1, 1, 1, 1, 1, 1]"
      ]
     },
     "execution_count": 4,
     "metadata": {},
     "output_type": "execute_result"
    }
   ],
   "source": [
    "a2 = [1 for i in range(10)]\n",
    "a2"
   ]
  },
  {
   "cell_type": "code",
   "execution_count": 5,
   "id": "8cd40ccc",
   "metadata": {},
   "outputs": [
    {
     "data": {
      "text/plain": [
       "array([1., 1., 1., 1., 1., 1., 1., 1., 1., 1., 1., 1.])"
      ]
     },
     "execution_count": 5,
     "metadata": {},
     "output_type": "execute_result"
    }
   ],
   "source": [
    "a2 = np.ones(12)\n",
    "a2"
   ]
  },
  {
   "cell_type": "markdown",
   "id": "5a733402",
   "metadata": {},
   "source": [
    "### 3. Создать массив из 12 пятерок +"
   ]
  },
  {
   "cell_type": "code",
   "execution_count": 6,
   "id": "9d843f6b",
   "metadata": {},
   "outputs": [
    {
     "data": {
      "text/plain": [
       "[5, 5, 5, 5, 5, 5, 5, 5, 5, 5, 5, 5]"
      ]
     },
     "execution_count": 6,
     "metadata": {},
     "output_type": "execute_result"
    }
   ],
   "source": [
    "a3 = [5 for i in range(12)]\n",
    "a3"
   ]
  },
  {
   "cell_type": "code",
   "execution_count": 7,
   "id": "8c26537b",
   "metadata": {},
   "outputs": [
    {
     "data": {
      "text/plain": [
       "array([5, 5, 5, 5, 5, 5, 5, 5, 5, 5, 5, 5])"
      ]
     },
     "execution_count": 7,
     "metadata": {},
     "output_type": "execute_result"
    }
   ],
   "source": [
    "a3 = np.full(12, 5)\n",
    "a3"
   ]
  },
  {
   "cell_type": "markdown",
   "id": "d12b5799",
   "metadata": {},
   "source": [
    "### 4. Создать массив из целых чисел от 12 до 51 +"
   ]
  },
  {
   "cell_type": "code",
   "execution_count": 8,
   "id": "98d6f017",
   "metadata": {},
   "outputs": [
    {
     "data": {
      "text/plain": [
       "[12,\n",
       " 13,\n",
       " 14,\n",
       " 15,\n",
       " 16,\n",
       " 17,\n",
       " 18,\n",
       " 19,\n",
       " 20,\n",
       " 21,\n",
       " 22,\n",
       " 23,\n",
       " 24,\n",
       " 25,\n",
       " 26,\n",
       " 27,\n",
       " 28,\n",
       " 29,\n",
       " 30,\n",
       " 31,\n",
       " 32,\n",
       " 33,\n",
       " 34,\n",
       " 35,\n",
       " 36,\n",
       " 37,\n",
       " 38,\n",
       " 39,\n",
       " 40,\n",
       " 41,\n",
       " 42,\n",
       " 43,\n",
       " 44,\n",
       " 45,\n",
       " 46,\n",
       " 47,\n",
       " 48,\n",
       " 49,\n",
       " 50,\n",
       " 51]"
      ]
     },
     "execution_count": 8,
     "metadata": {},
     "output_type": "execute_result"
    }
   ],
   "source": [
    "a4 = [i for i in range(12, 52)]\n",
    "a4"
   ]
  },
  {
   "cell_type": "code",
   "execution_count": 9,
   "id": "734ec2a7",
   "metadata": {},
   "outputs": [
    {
     "data": {
      "text/plain": [
       "array([12, 13, 14, 15, 16, 17, 18, 19, 20, 21, 22, 23, 24, 25, 26, 27, 28,\n",
       "       29, 30, 31, 32, 33, 34, 35, 36, 37, 38, 39, 40, 41, 42, 43, 44, 45,\n",
       "       46, 47, 48, 49, 50, 51])"
      ]
     },
     "execution_count": 9,
     "metadata": {},
     "output_type": "execute_result"
    }
   ],
   "source": [
    "a4 = np.arange(12, 52)\n",
    "a4"
   ]
  },
  {
   "cell_type": "markdown",
   "id": "13519857",
   "metadata": {},
   "source": [
    "### 5. Создать массив из целых четных чисел от 12 до 51 + "
   ]
  },
  {
   "cell_type": "code",
   "execution_count": 10,
   "id": "3d535b02",
   "metadata": {},
   "outputs": [
    {
     "data": {
      "text/plain": [
       "[12,\n",
       " 14,\n",
       " 16,\n",
       " 18,\n",
       " 20,\n",
       " 22,\n",
       " 24,\n",
       " 26,\n",
       " 28,\n",
       " 30,\n",
       " 32,\n",
       " 34,\n",
       " 36,\n",
       " 38,\n",
       " 40,\n",
       " 42,\n",
       " 44,\n",
       " 46,\n",
       " 48,\n",
       " 50]"
      ]
     },
     "execution_count": 10,
     "metadata": {},
     "output_type": "execute_result"
    }
   ],
   "source": [
    "a5 = [i for i in range(12, 52, 2)]\n",
    "a5"
   ]
  },
  {
   "cell_type": "code",
   "execution_count": 11,
   "id": "bca2d280",
   "metadata": {},
   "outputs": [
    {
     "data": {
      "text/plain": [
       "array([12, 14, 16, 18, 20, 22, 24, 26, 28, 30, 32, 34, 36, 38, 40, 42, 44,\n",
       "       46, 48, 50])"
      ]
     },
     "execution_count": 11,
     "metadata": {},
     "output_type": "execute_result"
    }
   ],
   "source": [
    "a5 = np.arange(12, 52, 2)\n",
    "a5"
   ]
  },
  {
   "cell_type": "markdown",
   "id": "157eb9d9",
   "metadata": {},
   "source": [
    "### 6. Создать матрицу 3х3 с числами от 1 до 9 + "
   ]
  },
  {
   "cell_type": "code",
   "execution_count": 12,
   "id": "380cf4e5",
   "metadata": {},
   "outputs": [
    {
     "data": {
      "text/plain": [
       "[[1, 2, 3], [4, 5, 6], [7, 8, 9]]"
      ]
     },
     "execution_count": 12,
     "metadata": {},
     "output_type": "execute_result"
    }
   ],
   "source": [
    "a6 = [[i for i in range(1, 4)], [i for i in range (4, 7)], [i for i in range(7, 10)]]\n",
    "a6"
   ]
  },
  {
   "cell_type": "code",
   "execution_count": 13,
   "id": "74e8e143",
   "metadata": {},
   "outputs": [
    {
     "data": {
      "text/plain": [
       "array([[1, 2, 3],\n",
       "       [4, 5, 6],\n",
       "       [7, 8, 9]])"
      ]
     },
     "execution_count": 13,
     "metadata": {},
     "output_type": "execute_result"
    }
   ],
   "source": [
    "a6 = np.arange(1, 10).reshape(3, 3)\n",
    "a6"
   ]
  },
  {
   "cell_type": "markdown",
   "id": "17484248",
   "metadata": {},
   "source": [
    "### 7. Создать единичную матрицу 5х5 + "
   ]
  },
  {
   "cell_type": "code",
   "execution_count": 14,
   "id": "b9b574a3",
   "metadata": {},
   "outputs": [
    {
     "data": {
      "text/plain": [
       "[[1, 1, 1, 1, 1],\n",
       " [1, 1, 1, 1, 1],\n",
       " [1, 1, 1, 1, 1],\n",
       " [1, 1, 1, 1, 1],\n",
       " [1, 1, 1, 1, 1]]"
      ]
     },
     "execution_count": 14,
     "metadata": {},
     "output_type": "execute_result"
    }
   ],
   "source": [
    "a7 = [[1 for i in range(5)] for i in range(5)]\n",
    "a7"
   ]
  },
  {
   "cell_type": "code",
   "execution_count": 15,
   "id": "b7714060",
   "metadata": {},
   "outputs": [
    {
     "data": {
      "text/plain": [
       "array([[1., 1., 1., 1., 1.],\n",
       "       [1., 1., 1., 1., 1.],\n",
       "       [1., 1., 1., 1., 1.],\n",
       "       [1., 1., 1., 1., 1.],\n",
       "       [1., 1., 1., 1., 1.]])"
      ]
     },
     "execution_count": 15,
     "metadata": {},
     "output_type": "execute_result"
    }
   ],
   "source": [
    "a7 = np.ones((5,5))\n",
    "a7"
   ]
  },
  {
   "cell_type": "markdown",
   "id": "f80fbf20",
   "metadata": {},
   "source": [
    "### 8. Создайте матрицу "
   ]
  },
  {
   "cell_type": "raw",
   "id": "7f3d19ea",
   "metadata": {},
   "source": [
    "[[0.01 0.02 0.03 0.04 0.05 0.06 0.07 0.08 0.09 0.1 ]\n",
    " [0.11 0.12 0.13 0.14 0.15 0.16 0.17 0.18 0.19 0.2 ]\n",
    " [0.21 0.22 0.23 0.24 0.25 0.26 0.27 0.28 0.29 0.3 ]\n",
    " [0.31 0.32 0.33 0.34 0.35 0.36 0.37 0.38 0.39 0.4 ]\n",
    " [0.41 0.42 0.43 0.44 0.45 0.46 0.47 0.48 0.49 0.5 ]\n",
    " [0.51 0.52 0.53 0.54 0.55 0.56 0.57 0.58 0.59 0.6 ]\n",
    " [0.61 0.62 0.63 0.64 0.65 0.66 0.67 0.68 0.69 0.7 ]\n",
    " [0.71 0.72 0.73 0.74 0.75 0.76 0.77 0.78 0.79 0.8 ]\n",
    " [0.81 0.82 0.83 0.84 0.85 0.86 0.87 0.88 0.89 0.9 ]\n",
    " [0.91 0.92 0.93 0.94 0.95 0.96 0.97 0.98 0.99 1.  ]]"
   ]
  },
  {
   "cell_type": "code",
   "execution_count": 16,
   "id": "1d830965",
   "metadata": {},
   "outputs": [
    {
     "data": {
      "text/plain": [
       "array([[0.01, 0.02, 0.03, 0.04, 0.05, 0.06, 0.07, 0.08, 0.09, 0.1 ],\n",
       "       [0.11, 0.12, 0.13, 0.14, 0.15, 0.16, 0.17, 0.18, 0.19, 0.2 ],\n",
       "       [0.21, 0.22, 0.23, 0.24, 0.25, 0.26, 0.27, 0.28, 0.29, 0.3 ],\n",
       "       [0.31, 0.32, 0.33, 0.34, 0.35, 0.36, 0.37, 0.38, 0.39, 0.4 ],\n",
       "       [0.41, 0.42, 0.43, 0.44, 0.45, 0.46, 0.47, 0.48, 0.49, 0.5 ],\n",
       "       [0.51, 0.52, 0.53, 0.54, 0.55, 0.56, 0.57, 0.58, 0.59, 0.6 ],\n",
       "       [0.61, 0.62, 0.63, 0.64, 0.65, 0.66, 0.67, 0.68, 0.69, 0.7 ],\n",
       "       [0.71, 0.72, 0.73, 0.74, 0.75, 0.76, 0.77, 0.78, 0.79, 0.8 ],\n",
       "       [0.81, 0.82, 0.83, 0.84, 0.85, 0.86, 0.87, 0.88, 0.89, 0.9 ],\n",
       "       [0.91, 0.92, 0.93, 0.94, 0.95, 0.96, 0.97, 0.98, 0.99, 1.  ]])"
      ]
     },
     "execution_count": 16,
     "metadata": {},
     "output_type": "execute_result"
    }
   ],
   "source": [
    "a8 = np.arange(0.01, 1.01, 0.01).reshape(10, 10)\n",
    "a8"
   ]
  },
  {
   "cell_type": "markdown",
   "id": "3bd180e3",
   "metadata": {},
   "source": [
    "### 9. Создайте матрицу "
   ]
  },
  {
   "cell_type": "raw",
   "id": "bad096aa",
   "metadata": {},
   "source": [
    "[[1  2  3  4  5]\n",
    " [6  7  8  9 10]\n",
    " [11 12 13 14 15]\n",
    " [16 17 18 19 20]\n",
    " [21 22 23 24 25]]"
   ]
  },
  {
   "cell_type": "code",
   "execution_count": 17,
   "id": "0ef1a159",
   "metadata": {},
   "outputs": [
    {
     "data": {
      "text/plain": [
       "array([[ 1,  2,  3,  4,  5],\n",
       "       [ 6,  7,  8,  9, 10],\n",
       "       [11, 12, 13, 14, 15],\n",
       "       [16, 17, 18, 19, 20],\n",
       "       [21, 22, 23, 24, 25]])"
      ]
     },
     "execution_count": 17,
     "metadata": {},
     "output_type": "execute_result"
    }
   ],
   "source": [
    "a9 = np.arange(1, 26).reshape(5, 5)\n",
    "a9"
   ]
  },
  {
   "cell_type": "markdown",
   "id": "3659ea72",
   "metadata": {},
   "source": [
    "### 10. Извлечь подматрицу из 9 задания"
   ]
  },
  {
   "cell_type": "raw",
   "id": "4a048c4a",
   "metadata": {},
   "source": [
    "[[12 13 14 15]\n",
    " [17 18 19 20]\n",
    " [22 23 24 25]]"
   ]
  },
  {
   "cell_type": "code",
   "execution_count": 18,
   "id": "a8f8aaab",
   "metadata": {},
   "outputs": [
    {
     "data": {
      "text/plain": [
       "array([[12, 13, 14, 15],\n",
       "       [17, 18, 19, 20],\n",
       "       [22, 23, 24, 25]])"
      ]
     },
     "execution_count": 18,
     "metadata": {},
     "output_type": "execute_result"
    }
   ],
   "source": [
    "a10 = a9[2:, 1:]\n",
    "a10"
   ]
  },
  {
   "cell_type": "markdown",
   "id": "0751e317",
   "metadata": {},
   "source": [
    "### 11. Написать код, который извлечет число 15 из 9 задания +"
   ]
  },
  {
   "cell_type": "code",
   "execution_count": 19,
   "id": "e7df2fd9",
   "metadata": {},
   "outputs": [
    {
     "data": {
      "text/plain": [
       "15"
      ]
     },
     "execution_count": 19,
     "metadata": {},
     "output_type": "execute_result"
    }
   ],
   "source": [
    "a11 = a9[2][4]\n",
    "a11"
   ]
  },
  {
   "cell_type": "code",
   "execution_count": 20,
   "id": "d6731d4c",
   "metadata": {},
   "outputs": [
    {
     "data": {
      "text/plain": [
       "15"
      ]
     },
     "execution_count": 20,
     "metadata": {},
     "output_type": "execute_result"
    }
   ],
   "source": [
    "a11 = a9[2,4]\n",
    "a11"
   ]
  },
  {
   "cell_type": "markdown",
   "id": "83eb2030",
   "metadata": {},
   "source": [
    "### 12. Извлечь из 9 задания матрицу +"
   ]
  },
  {
   "cell_type": "raw",
   "id": "79670c38",
   "metadata": {},
   "source": [
    "[[ 7]\n",
    " [12]\n",
    " [17]]"
   ]
  },
  {
   "cell_type": "code",
   "execution_count": 21,
   "id": "e151f96f",
   "metadata": {},
   "outputs": [
    {
     "data": {
      "text/plain": [
       "array([[ 7],\n",
       "       [12],\n",
       "       [17]])"
      ]
     },
     "execution_count": 21,
     "metadata": {},
     "output_type": "execute_result"
    }
   ],
   "source": [
    "a12 = a9[1:4, 1:2]\n",
    "a12"
   ]
  },
  {
   "cell_type": "code",
   "execution_count": 22,
   "id": "37948467",
   "metadata": {},
   "outputs": [
    {
     "data": {
      "text/plain": [
       "array([[ 7],\n",
       "       [12],\n",
       "       [17]])"
      ]
     },
     "execution_count": 22,
     "metadata": {},
     "output_type": "execute_result"
    }
   ],
   "source": [
    "a12 = a9[1:4, [1]]\n",
    "a12"
   ]
  },
  {
   "cell_type": "markdown",
   "id": "100aff44",
   "metadata": {},
   "source": [
    "### 13. Извлечь из 9 задания строку +\n",
    "[[21 22 23 24 25]]"
   ]
  },
  {
   "cell_type": "code",
   "execution_count": 23,
   "id": "9cd38c32",
   "metadata": {},
   "outputs": [
    {
     "data": {
      "text/plain": [
       "array([[21, 22, 23, 24, 25]])"
      ]
     },
     "execution_count": 23,
     "metadata": {},
     "output_type": "execute_result"
    }
   ],
   "source": [
    "a13 = a9[4:]\n",
    "a13"
   ]
  },
  {
   "cell_type": "markdown",
   "id": "c428f968",
   "metadata": {},
   "source": [
    "### 14. Извлечь две строки из 9 задания +"
   ]
  },
  {
   "cell_type": "raw",
   "id": "7b94dc09",
   "metadata": {},
   "source": [
    " [[16 17 18 19 20]\n",
    " [21 22 23 24 25]]"
   ]
  },
  {
   "cell_type": "code",
   "execution_count": 24,
   "id": "5eeb9b8d",
   "metadata": {},
   "outputs": [
    {
     "data": {
      "text/plain": [
       "array([[16, 17, 18, 19, 20],\n",
       "       [21, 22, 23, 24, 25]])"
      ]
     },
     "execution_count": 24,
     "metadata": {},
     "output_type": "execute_result"
    }
   ],
   "source": [
    "a14 = a9[3:, :]\n",
    "a14"
   ]
  },
  {
   "cell_type": "markdown",
   "id": "30370b69",
   "metadata": {},
   "source": [
    "### 15. Получить сумму всех значений из матрицы в задании 9 +"
   ]
  },
  {
   "cell_type": "code",
   "execution_count": 25,
   "id": "26be252f",
   "metadata": {},
   "outputs": [
    {
     "data": {
      "text/plain": [
       "325"
      ]
     },
     "execution_count": 25,
     "metadata": {},
     "output_type": "execute_result"
    }
   ],
   "source": [
    "a15 = a9.sum()\n",
    "a15"
   ]
  },
  {
   "cell_type": "code",
   "execution_count": 26,
   "id": "6d4d8d33",
   "metadata": {},
   "outputs": [
    {
     "data": {
      "text/plain": [
       "325"
      ]
     },
     "execution_count": 26,
     "metadata": {},
     "output_type": "execute_result"
    }
   ],
   "source": [
    "a15 = np.sum(a9)\n",
    "a15"
   ]
  },
  {
   "cell_type": "markdown",
   "id": "51839115",
   "metadata": {},
   "source": [
    "### 16. Получить сумму значений в колонках из матрицы в задании 9 +"
   ]
  },
  {
   "cell_type": "code",
   "execution_count": 27,
   "id": "0ca1fa47",
   "metadata": {},
   "outputs": [
    {
     "data": {
      "text/plain": [
       "[55, 60, 65, 70, 75]"
      ]
     },
     "execution_count": 27,
     "metadata": {},
     "output_type": "execute_result"
    }
   ],
   "source": [
    "a16 = [sum(col) for col in zip(*a9)]\n",
    "a16"
   ]
  },
  {
   "cell_type": "code",
   "execution_count": 28,
   "id": "4394ba41",
   "metadata": {},
   "outputs": [
    {
     "data": {
      "text/plain": [
       "array([55, 60, 65, 70, 75])"
      ]
     },
     "execution_count": 28,
     "metadata": {},
     "output_type": "execute_result"
    }
   ],
   "source": [
    "a16 = np.sum(a9, axis=0)\n",
    "a16"
   ]
  },
  {
   "cell_type": "code",
   "execution_count": null,
   "id": "32d3559a",
   "metadata": {},
   "outputs": [],
   "source": []
  }
 ],
 "metadata": {
  "kernelspec": {
   "display_name": "Python 3 (ipykernel)",
   "language": "python",
   "name": "python3"
  },
  "language_info": {
   "codemirror_mode": {
    "name": "ipython",
    "version": 3
   },
   "file_extension": ".py",
   "mimetype": "text/x-python",
   "name": "python",
   "nbconvert_exporter": "python",
   "pygments_lexer": "ipython3",
   "version": "3.9.12"
  }
 },
 "nbformat": 4,
 "nbformat_minor": 5
}
