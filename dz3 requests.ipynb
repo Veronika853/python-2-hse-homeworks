{
 "cells": [
  {
   "cell_type": "code",
   "execution_count": 1,
   "id": "e980f2da",
   "metadata": {},
   "outputs": [],
   "source": [
    "import requests\n",
    "import datetime as dt\n",
    "import pandas as pd"
   ]
  },
  {
   "cell_type": "markdown",
   "id": "188487d7",
   "metadata": {},
   "source": [
    "## Задание 1. Шутки"
   ]
  },
  {
   "cell_type": "code",
   "execution_count": 2,
   "id": "6e32b5e1",
   "metadata": {},
   "outputs": [],
   "source": [
    "response = requests.get('https://official-joke-api.appspot.com/jokes/ten')"
   ]
  },
  {
   "cell_type": "code",
   "execution_count": 3,
   "id": "519a2526",
   "metadata": {},
   "outputs": [],
   "source": [
    "# выполняется около минуты, 350 шуток\n",
    "jokes_types = set()\n",
    "for k in range(25): \n",
    "    response = requests.get('https://official-joke-api.appspot.com/jokes/ten')\n",
    "    for i in range(len(response.json())): \n",
    "        jokes_types.add(response.json()[i]['type'])"
   ]
  },
  {
   "cell_type": "code",
   "execution_count": 4,
   "id": "792f994d",
   "metadata": {},
   "outputs": [
    {
     "data": {
      "text/plain": [
       "{'dad', 'general', 'knock-knock', 'programming'}"
      ]
     },
     "execution_count": 4,
     "metadata": {},
     "output_type": "execute_result"
    }
   ],
   "source": [
    "jokes_types"
   ]
  },
  {
   "cell_type": "code",
   "execution_count": 5,
   "id": "86593d93",
   "metadata": {},
   "outputs": [
    {
     "name": "stdout",
     "output_type": "stream",
     "text": [
      "Категория: dad\n",
      "Why do fathers take an extra pair of socks when they go golfing?\n",
      "In case they get a hole in one!\n",
      "\n",
      "Why don't eggs tell jokes?\n",
      "Because they would crack each other up.\n",
      "\n",
      "\n",
      "\n",
      "Категория: general\n",
      "What did one nut say as he chased another nut?\n",
      " I'm a cashew!\n",
      "\n",
      "What do you call corn that joins the army?\n",
      "Kernel.\n",
      "\n",
      "What is the hardest part about sky diving?\n",
      "The ground.\n",
      "\n",
      "Who did the wizard marry?\n",
      "His ghoul-friend\n",
      "\n",
      "How do you get two whales in a car?\n",
      "Start in England and drive West.\n",
      "\n",
      "Is the pool safe for diving?\n",
      "It deep ends.\n",
      "\n",
      "What does a female snake use for support?\n",
      "A co-Bra!\n",
      "\n",
      "Why did the rooster cross the road?\n",
      "He heard that the chickens at KFC were pretty hot.\n",
      "\n",
      "What did one plate say to the other plate?\n",
      "Dinner is on me!\n",
      "\n",
      "What did celery say when he broke up with his girlfriend?\n",
      "She wasn't right for me, so I really don't carrot all.\n",
      "\n",
      "\n",
      "\n",
      "Категория: programming\n",
      "Which song would an exception sing?\n",
      "Can't catch me - Avicii\n",
      "\n",
      "Knock-knock.\n",
      "A race condition. Who is there?\n",
      "\n",
      "Why did the programmer quit his job?\n",
      "Because he didn't get arrays.\n",
      "\n",
      "A DHCP packet walks into a bar and asks for a beer.\n",
      "Bartender says, \"here, but I’ll need that back in an hour!\"\n",
      "\n",
      "A male developer often gets called as a Dev, then what would you call a female developer?\n",
      "Devi.\n",
      "\n",
      "An IPv6 packet is walking out of the house.\n",
      "He goes nowhere.\n",
      "\n",
      "Where did the API go to eat?\n",
      "To the RESTaurant.\n",
      "\n",
      "3 SQL statements walk into a NoSQL bar. Soon, they walk out\n",
      "They couldn't find a table.\n",
      "\n",
      "Why dot net developers don't wear glasses?\n",
      "Because they see sharp.\n",
      "\n",
      "What goes after USA?\n",
      "USB.\n",
      "\n",
      "\n",
      "\n",
      "Категория: knock-knock\n",
      "Knock knock. \n",
      " Who's there? \n",
      " Little old lady. \n",
      " Little old lady who?\n",
      "I didn't know you could yodel!\n",
      "\n",
      "Knock knock. \n",
      " Who's there? \n",
      " Hatch. \n",
      " Hatch who?\n",
      "Bless you!\n",
      "\n",
      "Knock knock. \n",
      " Who's there? \n",
      " A broken pencil. \n",
      " A broken pencil who?\n",
      "Never mind. It's pointless.\n",
      "\n",
      "Knock knock. \n",
      " Who's there? \n",
      " Opportunity.\n",
      "That is impossible. Opportunity doesn’t come knocking twice!\n",
      "\n",
      "Knock knock. \n",
      " Who's there? \n",
      " Cows go. \n",
      " Cows go who?\n",
      "No, cows go moo.\n",
      "\n",
      "\n",
      "\n"
     ]
    }
   ],
   "source": [
    "for joke_type in jokes_types: \n",
    "    response = requests.get(f'https://official-joke-api.appspot.com/jokes/{joke_type}/ten')\n",
    "    print(\"Категория:\", joke_type)\n",
    "    for i in range(len(response.json())): \n",
    "        print(response.json()[i]['setup'] + '\\n' + response.json()[i]['punchline'])\n",
    "        print()\n",
    "    print()    \n",
    "    print()"
   ]
  },
  {
   "cell_type": "markdown",
   "id": "9045363b",
   "metadata": {},
   "source": [
    "## Задание 2. Валюты"
   ]
  },
  {
   "cell_type": "code",
   "execution_count": 6,
   "id": "89a49406",
   "metadata": {},
   "outputs": [
    {
     "name": "stdout",
     "output_type": "stream",
     "text": [
      "100 USD is 7094.88 RUB\n"
     ]
    }
   ],
   "source": [
    "# 100 USD -> RUB\n",
    "response = requests.get('https://open.er-api.com/v6/latest/USD')\n",
    "if response:\n",
    "    rate = response.json()['rates']['RUB']\n",
    "    print(f'100 USD is {round(rate * 100, 2)} RUB')\n",
    "else:\n",
    "    print(f'An error has occurred. Status code: {response.status_code}')"
   ]
  },
  {
   "cell_type": "code",
   "execution_count": 7,
   "id": "5c6237b3",
   "metadata": {},
   "outputs": [
    {
     "name": "stdout",
     "output_type": "stream",
     "text": [
      "100 RUB is 1.31 EUR\n"
     ]
    }
   ],
   "source": [
    "# 100 RUB -> EUR\n",
    "response = requests.get('https://open.er-api.com/v6/latest/RUB')\n",
    "if response:\n",
    "    rate = response.json()['rates']['EUR']\n",
    "    print(f'100 RUB is {round(rate * 100, 2)} EUR')\n",
    "else:\n",
    "    print(f'An error has occurred. Status code: {response.status_code}')    "
   ]
  },
  {
   "cell_type": "code",
   "execution_count": 8,
   "id": "c1afac2a",
   "metadata": {},
   "outputs": [
    {
     "name": "stdout",
     "output_type": "stream",
     "text": [
      "100 EUR is 107.32 USD\n"
     ]
    }
   ],
   "source": [
    "# 100 EUR -> USD\n",
    "response = requests.get('https://open.er-api.com/v6/latest/EUR')\n",
    "if response:\n",
    "    rate = response.json()['rates']['USD']\n",
    "    print(f'100 EUR is {round(rate * 100, 2)} USD')\n",
    "else:\n",
    "    print(f'An error has occurred. Status code: {response.status_code}')    "
   ]
  },
  {
   "cell_type": "markdown",
   "id": "0baa72c0",
   "metadata": {},
   "source": [
    "### Задание 3. Публичные API"
   ]
  },
  {
   "cell_type": "code",
   "execution_count": 9,
   "id": "ba478b6a",
   "metadata": {},
   "outputs": [],
   "source": [
    "response = requests.get('https://api.publicapis.org/entries')"
   ]
  },
  {
   "cell_type": "code",
   "execution_count": 10,
   "id": "b937199e",
   "metadata": {},
   "outputs": [],
   "source": [
    "auth_counter = {}\n",
    "githab_count = 0\n",
    "category_counter = {}\n",
    "\n",
    "for i in range(len(response.json()['entries'])): \n",
    "    if response.json()['entries'][i]['Auth'] in auth_counter.keys(): \n",
    "        auth_counter[response.json()['entries'][i]['Auth']] += 1    \n",
    "    else: \n",
    "        auth_counter[response.json()['entries'][i]['Auth']] = 1\n",
    "        \n",
    "    if response.json()['entries'][i]['Link'].find('github.io') != -1: \n",
    "        githab_count += 1\n",
    "        \n",
    "    if response.json()['entries'][i]['Category'] in category_counter.keys(): \n",
    "        category_counter[response.json()['entries'][i]['Category']] += 1    \n",
    "    else: \n",
    "        category_counter[response.json()['entries'][i]['Category']] = 1"
   ]
  },
  {
   "cell_type": "code",
   "execution_count": 11,
   "id": "60716411",
   "metadata": {},
   "outputs": [],
   "source": [
    "auth_df = pd.DataFrame(auth_counter.values(), index=auth_counter.keys(), columns=['count'])\n",
    "auth_df['share_%'] = round(auth_df['count'] / auth_df['count'].sum() * 100, 2)"
   ]
  },
  {
   "cell_type": "code",
   "execution_count": 12,
   "id": "4c6425af",
   "metadata": {},
   "outputs": [
    {
     "data": {
      "text/html": [
       "<div>\n",
       "<style scoped>\n",
       "    .dataframe tbody tr th:only-of-type {\n",
       "        vertical-align: middle;\n",
       "    }\n",
       "\n",
       "    .dataframe tbody tr th {\n",
       "        vertical-align: top;\n",
       "    }\n",
       "\n",
       "    .dataframe thead th {\n",
       "        text-align: right;\n",
       "    }\n",
       "</style>\n",
       "<table border=\"1\" class=\"dataframe\">\n",
       "  <thead>\n",
       "    <tr style=\"text-align: right;\">\n",
       "      <th></th>\n",
       "      <th>count</th>\n",
       "      <th>share_%</th>\n",
       "    </tr>\n",
       "  </thead>\n",
       "  <tbody>\n",
       "    <tr>\n",
       "      <th>apiKey</th>\n",
       "      <td>600</td>\n",
       "      <td>42.11</td>\n",
       "    </tr>\n",
       "    <tr>\n",
       "      <th></th>\n",
       "      <td>669</td>\n",
       "      <td>46.95</td>\n",
       "    </tr>\n",
       "    <tr>\n",
       "      <th>OAuth</th>\n",
       "      <td>149</td>\n",
       "      <td>10.46</td>\n",
       "    </tr>\n",
       "    <tr>\n",
       "      <th>X-Mashape-Key</th>\n",
       "      <td>6</td>\n",
       "      <td>0.42</td>\n",
       "    </tr>\n",
       "    <tr>\n",
       "      <th>User-Agent</th>\n",
       "      <td>1</td>\n",
       "      <td>0.07</td>\n",
       "    </tr>\n",
       "  </tbody>\n",
       "</table>\n",
       "</div>"
      ],
      "text/plain": [
       "               count  share_%\n",
       "apiKey           600    42.11\n",
       "                 669    46.95\n",
       "OAuth            149    10.46\n",
       "X-Mashape-Key      6     0.42\n",
       "User-Agent         1     0.07"
      ]
     },
     "execution_count": 12,
     "metadata": {},
     "output_type": "execute_result"
    }
   ],
   "source": [
    "auth_df"
   ]
  },
  {
   "cell_type": "code",
   "execution_count": 13,
   "id": "9e8eeb60",
   "metadata": {},
   "outputs": [
    {
     "name": "stdout",
     "output_type": "stream",
     "text": [
      "На гитхабе развернуто 24 API\n"
     ]
    }
   ],
   "source": [
    "print(f'На гитхабе развернуто {githab_count} API')"
   ]
  },
  {
   "cell_type": "code",
   "execution_count": 14,
   "id": "cfa422fa",
   "metadata": {},
   "outputs": [
    {
     "data": {
      "text/plain": [
       "{'Animals': 27,\n",
       " 'Anime': 19,\n",
       " 'Anti-Malware': 15,\n",
       " 'Art & Design': 20,\n",
       " 'Authentication & Authorization': 7,\n",
       " 'Blockchain': 11,\n",
       " 'Books': 23,\n",
       " 'Business': 23,\n",
       " 'Calendar': 16,\n",
       " 'Cloud Storage & File Sharing': 19,\n",
       " 'Continuous Integration': 6,\n",
       " 'Cryptocurrency': 64,\n",
       " 'Currency Exchange': 17,\n",
       " 'Data Validation': 7,\n",
       " 'Development': 120,\n",
       " 'Dictionaries': 13,\n",
       " 'Documents & Productivity': 28,\n",
       " 'Email': 17,\n",
       " 'Entertainment': 10,\n",
       " 'Environment': 17,\n",
       " 'Events': 3,\n",
       " 'Finance': 45,\n",
       " 'Food & Drink': 24,\n",
       " 'Games & Comics': 96,\n",
       " 'Geocoding': 86,\n",
       " 'Government': 86,\n",
       " 'Health': 31,\n",
       " 'Jobs': 17,\n",
       " 'Machine Learning': 22,\n",
       " 'Music': 33,\n",
       " 'News': 19,\n",
       " 'Open Data': 35,\n",
       " 'Open Source Projects': 9,\n",
       " 'Patent': 4,\n",
       " 'Personality': 23,\n",
       " 'Phone': 5,\n",
       " 'Photography': 28,\n",
       " 'Programming': 5,\n",
       " 'Science & Math': 33,\n",
       " 'Security': 38,\n",
       " 'Shopping': 14,\n",
       " 'Social': 40,\n",
       " 'Sports & Fitness': 33,\n",
       " 'Test Data': 25,\n",
       " 'Text Analysis': 15,\n",
       " 'Tracking': 9,\n",
       " 'Transportation': 69,\n",
       " 'URL Shorteners': 19,\n",
       " 'Vehicle': 6,\n",
       " 'Video': 43,\n",
       " 'Weather': 31}"
      ]
     },
     "execution_count": 14,
     "metadata": {},
     "output_type": "execute_result"
    }
   ],
   "source": [
    "category_counter"
   ]
  },
  {
   "cell_type": "markdown",
   "id": "a06dd236",
   "metadata": {},
   "source": [
    "## 4. Календарь соревнований по датам на ближайшие 15 дней"
   ]
  },
  {
   "cell_type": "code",
   "execution_count": 15,
   "id": "fc7ad7ee",
   "metadata": {},
   "outputs": [],
   "source": [
    "response = requests.get('https://kontests.net/api/v1/sites')\n",
    "today = dt.datetime.today()\n",
    "next_15_days = today + dt.timedelta(days=15)\n",
    "calendar_df = pd.DataFrame(columns=['name', 'url', 'start_datetime', 'end_datetime'])"
   ]
  },
  {
   "cell_type": "code",
   "execution_count": 16,
   "id": "97e7fdb4",
   "metadata": {},
   "outputs": [],
   "source": [
    "for site in response.json(): \n",
    "    if requests.get(f'https://kontests.net/api/v1/{site[1]}'): \n",
    "        for contest in requests.get(f'https://kontests.net/api/v1/{site[1]}').json(): \n",
    "            if 'Z' in contest['start_time']: \n",
    "                start_dt = dt.datetime.fromisoformat(contest['start_time'].replace('Z', '')) \n",
    "                end_dt = dt.datetime.fromisoformat(contest['end_time'].replace('Z', '')) \n",
    "\n",
    "            else: \n",
    "                datetime_format = '%Y-%m-%d %H:%M:%S %Z'\n",
    "                start_dt = dt.datetime.strptime(contest['start_time'], datetime_format) \n",
    "                end_dt = dt.datetime.strptime(contest['end_time'], datetime_format)\n",
    "            if start_dt <= next_15_days and end_dt >= today: \n",
    "                new_df = pd.DataFrame({'name' : contest['name'],\n",
    "                                   'url' : contest['url'],           \n",
    "                                   'start_datetime': start_dt,\n",
    "                                   'end_datetime' : end_dt}, index=[0])\n",
    "                calendar_df = pd.concat([calendar_df, new_df])\n",
    "                \n",
    "calendar_df = calendar_df.reset_index(drop=True)                "
   ]
  },
  {
   "cell_type": "code",
   "execution_count": 17,
   "id": "0cd4412c",
   "metadata": {},
   "outputs": [
    {
     "data": {
      "text/html": [
       "<div>\n",
       "<style scoped>\n",
       "    .dataframe tbody tr th:only-of-type {\n",
       "        vertical-align: middle;\n",
       "    }\n",
       "\n",
       "    .dataframe tbody tr th {\n",
       "        vertical-align: top;\n",
       "    }\n",
       "\n",
       "    .dataframe thead th {\n",
       "        text-align: right;\n",
       "    }\n",
       "</style>\n",
       "<table border=\"1\" class=\"dataframe\">\n",
       "  <thead>\n",
       "    <tr style=\"text-align: right;\">\n",
       "      <th></th>\n",
       "      <th>name</th>\n",
       "      <th>url</th>\n",
       "      <th>start_datetime</th>\n",
       "      <th>end_datetime</th>\n",
       "    </tr>\n",
       "  </thead>\n",
       "  <tbody>\n",
       "    <tr>\n",
       "      <th>0</th>\n",
       "      <td>Codeforces Round #851 (Div. 2)</td>\n",
       "      <td>https://codeforces.com/contestRegistration/1788</td>\n",
       "      <td>2023-02-09 14:35:00</td>\n",
       "      <td>2023-02-09 16:35:00</td>\n",
       "    </tr>\n",
       "    <tr>\n",
       "      <th>1</th>\n",
       "      <td>Codeforces Round #852 (Div. 2)</td>\n",
       "      <td>https://codeforces.com/contestRegistration/1793</td>\n",
       "      <td>2023-02-12 08:35:00</td>\n",
       "      <td>2023-02-12 10:35:00</td>\n",
       "    </tr>\n",
       "    <tr>\n",
       "      <th>2</th>\n",
       "      <td>Educational Codeforces Round 143 (Rated for Di...</td>\n",
       "      <td>https://codeforces.com/contestRegistration/1795</td>\n",
       "      <td>2023-02-13 14:35:00</td>\n",
       "      <td>2023-02-13 16:35:00</td>\n",
       "    </tr>\n",
       "    <tr>\n",
       "      <th>3</th>\n",
       "      <td>SWERC 2022-2023 - Online Mirror (Unrated, ICPC...</td>\n",
       "      <td>https://codeforces.com/contestRegistration/1776</td>\n",
       "      <td>2023-02-19 11:05:00</td>\n",
       "      <td>2023-02-19 16:05:00</td>\n",
       "    </tr>\n",
       "    <tr>\n",
       "      <th>4</th>\n",
       "      <td>Ｓｋｙ Inc, Programming Contest 2023（AtCoder Begi...</td>\n",
       "      <td>https://atcoder.jp/contests/abc289</td>\n",
       "      <td>2023-02-11 12:00:00</td>\n",
       "      <td>2023-02-11 13:40:00</td>\n",
       "    </tr>\n",
       "    <tr>\n",
       "      <th>5</th>\n",
       "      <td>AtCoder Grand Contest 061</td>\n",
       "      <td>https://atcoder.jp/contests/agc061</td>\n",
       "      <td>2023-02-12 12:00:00</td>\n",
       "      <td>2023-02-12 15:00:00</td>\n",
       "    </tr>\n",
       "    <tr>\n",
       "      <th>6</th>\n",
       "      <td>RECRUIT Nihonbashi Half Marathon 2023 Winter（A...</td>\n",
       "      <td>https://atcoder.jp/contests/ahc018</td>\n",
       "      <td>2023-02-18 03:00:00</td>\n",
       "      <td>2023-02-26 10:00:00</td>\n",
       "    </tr>\n",
       "    <tr>\n",
       "      <th>7</th>\n",
       "      <td>Toyota Programming Contest 2023 Spring Qual B（...</td>\n",
       "      <td>https://atcoder.jp/contests/abc290</td>\n",
       "      <td>2023-02-19 12:00:00</td>\n",
       "      <td>2023-02-19 13:40:00</td>\n",
       "    </tr>\n",
       "    <tr>\n",
       "      <th>8</th>\n",
       "      <td>Starters 77</td>\n",
       "      <td>https://www.codechef.com/START77</td>\n",
       "      <td>2023-02-15 14:30:00</td>\n",
       "      <td>2023-02-15 17:30:00</td>\n",
       "    </tr>\n",
       "    <tr>\n",
       "      <th>9</th>\n",
       "      <td>February Cook-Off 2023 (Rated for All)</td>\n",
       "      <td>https://www.codechef.com/COOK146</td>\n",
       "      <td>2023-02-08 14:30:00</td>\n",
       "      <td>2023-02-08 17:00:00</td>\n",
       "    </tr>\n",
       "    <tr>\n",
       "      <th>10</th>\n",
       "      <td>ProjectEuler+</td>\n",
       "      <td>https://hackerrank.com/contests/projecteuler</td>\n",
       "      <td>2014-07-07 15:38:00</td>\n",
       "      <td>2024-07-30 18:30:00</td>\n",
       "    </tr>\n",
       "    <tr>\n",
       "      <th>11</th>\n",
       "      <td>Build a Web App for Millions of Users</td>\n",
       "      <td>https://pinetwork.hackerearth.com/</td>\n",
       "      <td>2023-01-09 19:11:00</td>\n",
       "      <td>2023-02-28 20:40:00</td>\n",
       "    </tr>\n",
       "    <tr>\n",
       "      <th>12</th>\n",
       "      <td>Veridic HireSprint2023</td>\n",
       "      <td>https://www.hackerearth.com/challenges/hiring/...</td>\n",
       "      <td>2023-01-26 04:17:00</td>\n",
       "      <td>2023-03-10 04:18:00</td>\n",
       "    </tr>\n",
       "    <tr>\n",
       "      <th>13</th>\n",
       "      <td>Intel® oneAPI Hackathon for Open Innovation</td>\n",
       "      <td>https://www.hackerearth.com/challenges/hackath...</td>\n",
       "      <td>2023-02-06 12:30:00</td>\n",
       "      <td>2023-02-26 18:29:00</td>\n",
       "    </tr>\n",
       "    <tr>\n",
       "      <th>14</th>\n",
       "      <td>Learn Coding for Brother Printers</td>\n",
       "      <td>https://brother.hackerearth.com/</td>\n",
       "      <td>2023-02-12 05:00:00</td>\n",
       "      <td>2023-03-11 04:59:00</td>\n",
       "    </tr>\n",
       "    <tr>\n",
       "      <th>15</th>\n",
       "      <td>NuHarbor Hackathon</td>\n",
       "      <td>https://polyglot.hackerearth.com/</td>\n",
       "      <td>2023-02-16 05:01:00</td>\n",
       "      <td>2023-04-01 03:55:00</td>\n",
       "    </tr>\n",
       "    <tr>\n",
       "      <th>16</th>\n",
       "      <td>Biweekly Contest 98</td>\n",
       "      <td>https://leetcode.com/contest/biweekly-contest-98</td>\n",
       "      <td>2023-02-18 14:30:00</td>\n",
       "      <td>2023-02-18 16:00:00</td>\n",
       "    </tr>\n",
       "    <tr>\n",
       "      <th>17</th>\n",
       "      <td>Weekly Contest 332</td>\n",
       "      <td>https://leetcode.com/contest/weekly-contest-332</td>\n",
       "      <td>2023-02-12 02:30:00</td>\n",
       "      <td>2023-02-12 04:00:00</td>\n",
       "    </tr>\n",
       "  </tbody>\n",
       "</table>\n",
       "</div>"
      ],
      "text/plain": [
       "                                                 name  \\\n",
       "0                      Codeforces Round #851 (Div. 2)   \n",
       "1                      Codeforces Round #852 (Div. 2)   \n",
       "2   Educational Codeforces Round 143 (Rated for Di...   \n",
       "3   SWERC 2022-2023 - Online Mirror (Unrated, ICPC...   \n",
       "4   Ｓｋｙ Inc, Programming Contest 2023（AtCoder Begi...   \n",
       "5                           AtCoder Grand Contest 061   \n",
       "6   RECRUIT Nihonbashi Half Marathon 2023 Winter（A...   \n",
       "7   Toyota Programming Contest 2023 Spring Qual B（...   \n",
       "8                                         Starters 77   \n",
       "9              February Cook-Off 2023 (Rated for All)   \n",
       "10                                      ProjectEuler+   \n",
       "11              Build a Web App for Millions of Users   \n",
       "12                             Veridic HireSprint2023   \n",
       "13        Intel® oneAPI Hackathon for Open Innovation   \n",
       "14                  Learn Coding for Brother Printers   \n",
       "15                                 NuHarbor Hackathon   \n",
       "16                                Biweekly Contest 98   \n",
       "17                                 Weekly Contest 332   \n",
       "\n",
       "                                                  url      start_datetime  \\\n",
       "0     https://codeforces.com/contestRegistration/1788 2023-02-09 14:35:00   \n",
       "1     https://codeforces.com/contestRegistration/1793 2023-02-12 08:35:00   \n",
       "2     https://codeforces.com/contestRegistration/1795 2023-02-13 14:35:00   \n",
       "3     https://codeforces.com/contestRegistration/1776 2023-02-19 11:05:00   \n",
       "4                  https://atcoder.jp/contests/abc289 2023-02-11 12:00:00   \n",
       "5                  https://atcoder.jp/contests/agc061 2023-02-12 12:00:00   \n",
       "6                  https://atcoder.jp/contests/ahc018 2023-02-18 03:00:00   \n",
       "7                  https://atcoder.jp/contests/abc290 2023-02-19 12:00:00   \n",
       "8                    https://www.codechef.com/START77 2023-02-15 14:30:00   \n",
       "9                    https://www.codechef.com/COOK146 2023-02-08 14:30:00   \n",
       "10       https://hackerrank.com/contests/projecteuler 2014-07-07 15:38:00   \n",
       "11                 https://pinetwork.hackerearth.com/ 2023-01-09 19:11:00   \n",
       "12  https://www.hackerearth.com/challenges/hiring/... 2023-01-26 04:17:00   \n",
       "13  https://www.hackerearth.com/challenges/hackath... 2023-02-06 12:30:00   \n",
       "14                   https://brother.hackerearth.com/ 2023-02-12 05:00:00   \n",
       "15                  https://polyglot.hackerearth.com/ 2023-02-16 05:01:00   \n",
       "16   https://leetcode.com/contest/biweekly-contest-98 2023-02-18 14:30:00   \n",
       "17    https://leetcode.com/contest/weekly-contest-332 2023-02-12 02:30:00   \n",
       "\n",
       "          end_datetime  \n",
       "0  2023-02-09 16:35:00  \n",
       "1  2023-02-12 10:35:00  \n",
       "2  2023-02-13 16:35:00  \n",
       "3  2023-02-19 16:05:00  \n",
       "4  2023-02-11 13:40:00  \n",
       "5  2023-02-12 15:00:00  \n",
       "6  2023-02-26 10:00:00  \n",
       "7  2023-02-19 13:40:00  \n",
       "8  2023-02-15 17:30:00  \n",
       "9  2023-02-08 17:00:00  \n",
       "10 2024-07-30 18:30:00  \n",
       "11 2023-02-28 20:40:00  \n",
       "12 2023-03-10 04:18:00  \n",
       "13 2023-02-26 18:29:00  \n",
       "14 2023-03-11 04:59:00  \n",
       "15 2023-04-01 03:55:00  \n",
       "16 2023-02-18 16:00:00  \n",
       "17 2023-02-12 04:00:00  "
      ]
     },
     "execution_count": 17,
     "metadata": {},
     "output_type": "execute_result"
    }
   ],
   "source": [
    "calendar_df"
   ]
  },
  {
   "cell_type": "markdown",
   "id": "0466f41d",
   "metadata": {},
   "source": [
    "## Задача 5. Посчитать зарплату работников за весну 2022 года"
   ]
  },
  {
   "cell_type": "code",
   "execution_count": 18,
   "id": "77709343",
   "metadata": {},
   "outputs": [],
   "source": [
    "input_data = \\\n",
    "'''Ivan Ivanov,1000 USD\n",
    "Alex Random,1000 EUR\n",
    "Athur Smith,1000 RUB\n",
    "Masha Noname,130 RUB\n",
    "Krolik Rodger,5 RUB'''"
   ]
  },
  {
   "cell_type": "code",
   "execution_count": 19,
   "id": "b2529ec0",
   "metadata": {},
   "outputs": [],
   "source": [
    "#таблица сотрудников\n",
    "df = pd.DataFrame()\n",
    "for row in input_data.splitlines(): \n",
    "    employee = pd.DataFrame({'name' : row.split(',')[0], 'hour_rate' : row.split(',')[1]}, index=[0])\n",
    "    df = pd.concat([df, employee])\n",
    "    \n",
    "df['currency'] = df['hour_rate'].apply(lambda x: x.split(' ')[1])\n",
    "df['hour_rate'] = df['hour_rate'].apply(lambda x: int(x.split(' ')[0]))\n",
    "df = df.reset_index(drop=True)    "
   ]
  },
  {
   "cell_type": "code",
   "execution_count": 20,
   "id": "14f5b65f",
   "metadata": {},
   "outputs": [],
   "source": [
    "working_hours = {3 : 0, 4 : 0, 5 : 0}\n",
    "total_spring_working_hours = 0"
   ]
  },
  {
   "cell_type": "code",
   "execution_count": 21,
   "id": "29260e97",
   "metadata": {},
   "outputs": [],
   "source": [
    "for month_num in (working_hours.keys()): \n",
    "    response = requests.get(f'https://isdayoff.ru/api/getdata?year=2022&month={month_num}')\n",
    "    if response.status_code == 200:\n",
    "        zeros = str(response.content).count('0')\n",
    "        twos = str(response.content).count('2')\n",
    "        fours = str(response.content).count('4')\n",
    "        working_hours[month_num] = (zeros + fours) * 8 + twos * 7\n",
    "        total_spring_working_hours += working_hours[month_num]\n",
    "    else:\n",
    "        print(f'An error has occurred. Month: {month_num}. Status code: {response.status_code}')"
   ]
  },
  {
   "cell_type": "code",
   "execution_count": 22,
   "id": "f2744143",
   "metadata": {},
   "outputs": [
    {
     "data": {
      "text/plain": [
       "{3: 176, 4: 168, 5: 144}"
      ]
     },
     "execution_count": 22,
     "metadata": {},
     "output_type": "execute_result"
    }
   ],
   "source": [
    "working_hours"
   ]
  },
  {
   "cell_type": "code",
   "execution_count": 23,
   "id": "7ff30e29",
   "metadata": {},
   "outputs": [
    {
     "data": {
      "text/plain": [
       "488"
      ]
     },
     "execution_count": 23,
     "metadata": {},
     "output_type": "execute_result"
    }
   ],
   "source": [
    "total_spring_working_hours"
   ]
  },
  {
   "cell_type": "code",
   "execution_count": 24,
   "id": "3f98281c",
   "metadata": {},
   "outputs": [],
   "source": [
    "df['spring_salary'] = df['hour_rate'].apply(lambda x: x * total_spring_working_hours)"
   ]
  },
  {
   "cell_type": "code",
   "execution_count": 25,
   "id": "11933229",
   "metadata": {},
   "outputs": [
    {
     "data": {
      "text/html": [
       "<div>\n",
       "<style scoped>\n",
       "    .dataframe tbody tr th:only-of-type {\n",
       "        vertical-align: middle;\n",
       "    }\n",
       "\n",
       "    .dataframe tbody tr th {\n",
       "        vertical-align: top;\n",
       "    }\n",
       "\n",
       "    .dataframe thead th {\n",
       "        text-align: right;\n",
       "    }\n",
       "</style>\n",
       "<table border=\"1\" class=\"dataframe\">\n",
       "  <thead>\n",
       "    <tr style=\"text-align: right;\">\n",
       "      <th></th>\n",
       "      <th>name</th>\n",
       "      <th>hour_rate</th>\n",
       "      <th>currency</th>\n",
       "      <th>spring_salary</th>\n",
       "    </tr>\n",
       "  </thead>\n",
       "  <tbody>\n",
       "    <tr>\n",
       "      <th>0</th>\n",
       "      <td>Ivan Ivanov</td>\n",
       "      <td>1000</td>\n",
       "      <td>USD</td>\n",
       "      <td>488000</td>\n",
       "    </tr>\n",
       "    <tr>\n",
       "      <th>1</th>\n",
       "      <td>Alex Random</td>\n",
       "      <td>1000</td>\n",
       "      <td>EUR</td>\n",
       "      <td>488000</td>\n",
       "    </tr>\n",
       "    <tr>\n",
       "      <th>2</th>\n",
       "      <td>Athur Smith</td>\n",
       "      <td>1000</td>\n",
       "      <td>RUB</td>\n",
       "      <td>488000</td>\n",
       "    </tr>\n",
       "    <tr>\n",
       "      <th>3</th>\n",
       "      <td>Masha Noname</td>\n",
       "      <td>130</td>\n",
       "      <td>RUB</td>\n",
       "      <td>63440</td>\n",
       "    </tr>\n",
       "    <tr>\n",
       "      <th>4</th>\n",
       "      <td>Krolik Rodger</td>\n",
       "      <td>5</td>\n",
       "      <td>RUB</td>\n",
       "      <td>2440</td>\n",
       "    </tr>\n",
       "  </tbody>\n",
       "</table>\n",
       "</div>"
      ],
      "text/plain": [
       "            name  hour_rate currency  spring_salary\n",
       "0    Ivan Ivanov       1000      USD         488000\n",
       "1    Alex Random       1000      EUR         488000\n",
       "2    Athur Smith       1000      RUB         488000\n",
       "3   Masha Noname        130      RUB          63440\n",
       "4  Krolik Rodger          5      RUB           2440"
      ]
     },
     "execution_count": 25,
     "metadata": {},
     "output_type": "execute_result"
    }
   ],
   "source": [
    "df"
   ]
  },
  {
   "cell_type": "code",
   "execution_count": null,
   "id": "3382a7b9",
   "metadata": {},
   "outputs": [],
   "source": []
  }
 ],
 "metadata": {
  "kernelspec": {
   "display_name": "Python 3 (ipykernel)",
   "language": "python",
   "name": "python3"
  },
  "language_info": {
   "codemirror_mode": {
    "name": "ipython",
    "version": 3
   },
   "file_extension": ".py",
   "mimetype": "text/x-python",
   "name": "python",
   "nbconvert_exporter": "python",
   "pygments_lexer": "ipython3",
   "version": "3.9.12"
  }
 },
 "nbformat": 4,
 "nbformat_minor": 5
}
