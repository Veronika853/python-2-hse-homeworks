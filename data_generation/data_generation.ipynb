{
 "cells": [
  {
   "cell_type": "code",
   "execution_count": 1,
   "id": "38808b79",
   "metadata": {},
   "outputs": [],
   "source": [
    "import random\n",
    "import requests\n",
    "import json\n",
    "import pandas as pd"
   ]
  },
  {
   "cell_type": "code",
   "execution_count": 2,
   "id": "8e470c0c",
   "metadata": {},
   "outputs": [],
   "source": [
    "def write_data(file_name, data):\n",
    "    with open('data.csv', 'w', encoding=\"utf-8\") as file:\n",
    "        file.write(','.join(headers) + '\\n')\n",
    "        for row in data:\n",
    "            file.write(','.join(row) + '\\n')\n",
    "    file.close()"
   ]
  },
  {
   "cell_type": "code",
   "execution_count": 3,
   "id": "6dc49ef2",
   "metadata": {},
   "outputs": [],
   "source": [
    "def generate_ids(data_len):\n",
    "    l = [str(random.randint(0, 99999)) for _ in range(data_len)]\n",
    "    return l\n",
    "    \n",
    "    \n",
    "def generate_salary(data_len):\n",
    "    salary = [str(random.randint(100000, 999999)) for _ in range(data_len)]\n",
    "    return salary\n",
    "    \n",
    "    \n",
    "def generate_month(data_len):\n",
    "    months = [str(random.randint(1, 12)) for _ in range(data_len)]\n",
    "    return months\n",
    "    \n",
    "\n",
    "def generate_users(data_len):\n",
    "    # https://randomuser.me/api/?results=10\n",
    "    url = \"https://randomuser.me/api/\"\n",
    "    params = {'results': data_len}\n",
    "    response = requests.get(url, params=params)\n",
    "    data = response.json()\n",
    "    result = list(map(lambda x: x['name'], data['results']))  \n",
    "    return result"
   ]
  },
  {
   "cell_type": "code",
   "execution_count": 4,
   "id": "2152d9e1",
   "metadata": {},
   "outputs": [],
   "source": [
    "data_len = 10    \n",
    "headers = ['id', 'salary', 'month', 'title', 'name', 'surname']\n",
    "ids = generate_ids(data_len)\n",
    "salaries = generate_salary(data_len)\n",
    "months = generate_month(data_len)\n",
    "users = generate_users(data_len)\n",
    "titles = [row['title'] for row in users]\n",
    "first_names = [row['first'] for row in users]\n",
    "last_names = [row['last'] for row in users]"
   ]
  },
  {
   "cell_type": "code",
   "execution_count": 5,
   "id": "7f747612",
   "metadata": {},
   "outputs": [],
   "source": [
    "merged = zip(ids, salaries, months, titles, first_names, last_names)\n",
    "\n",
    "result = list(merged)\n",
    "\n",
    "write_data('data.csv', result)"
   ]
  },
  {
   "cell_type": "code",
   "execution_count": 6,
   "id": "80631263",
   "metadata": {},
   "outputs": [
    {
     "name": "stdout",
     "output_type": "stream",
     "text": [
      "Средняя зарплата: 556129.9\n"
     ]
    }
   ],
   "source": [
    "data = pd.read_csv('data.csv')\n",
    "print('Средняя зарплата:', data['salary'].mean())"
   ]
  },
  {
   "cell_type": "code",
   "execution_count": null,
   "id": "cde885b1",
   "metadata": {},
   "outputs": [],
   "source": []
  }
 ],
 "metadata": {
  "kernelspec": {
   "display_name": "Python 3 (ipykernel)",
   "language": "python",
   "name": "python3"
  },
  "language_info": {
   "codemirror_mode": {
    "name": "ipython",
    "version": 3
   },
   "file_extension": ".py",
   "mimetype": "text/x-python",
   "name": "python",
   "nbconvert_exporter": "python",
   "pygments_lexer": "ipython3",
   "version": "3.9.12"
  }
 },
 "nbformat": 4,
 "nbformat_minor": 5
}
