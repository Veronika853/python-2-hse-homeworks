{
 "cells": [
  {
   "cell_type": "code",
   "execution_count": 1,
   "id": "11ab6bc4",
   "metadata": {},
   "outputs": [],
   "source": [
    "import pandas as pd\n",
    "import datetime as dt"
   ]
  },
  {
   "cell_type": "code",
   "execution_count": 2,
   "id": "72b5f22d",
   "metadata": {},
   "outputs": [
    {
     "data": {
      "text/html": [
       "<div>\n",
       "<style scoped>\n",
       "    .dataframe tbody tr th:only-of-type {\n",
       "        vertical-align: middle;\n",
       "    }\n",
       "\n",
       "    .dataframe tbody tr th {\n",
       "        vertical-align: top;\n",
       "    }\n",
       "\n",
       "    .dataframe thead th {\n",
       "        text-align: right;\n",
       "    }\n",
       "</style>\n",
       "<table border=\"1\" class=\"dataframe\">\n",
       "  <thead>\n",
       "    <tr style=\"text-align: right;\">\n",
       "      <th></th>\n",
       "      <th>date</th>\n",
       "      <th>cutlery</th>\n",
       "      <th>tips</th>\n",
       "      <th>order_price</th>\n",
       "      <th>uid</th>\n",
       "      <th>order_id</th>\n",
       "      <th>day</th>\n",
       "      <th>hour</th>\n",
       "    </tr>\n",
       "  </thead>\n",
       "  <tbody>\n",
       "    <tr>\n",
       "      <th>0</th>\n",
       "      <td>2022-01-17 06:38:43</td>\n",
       "      <td>3</td>\n",
       "      <td>100</td>\n",
       "      <td>1001</td>\n",
       "      <td>120967</td>\n",
       "      <td>73041443</td>\n",
       "      <td>2022-01-17</td>\n",
       "      <td>6</td>\n",
       "    </tr>\n",
       "    <tr>\n",
       "      <th>1</th>\n",
       "      <td>2022-01-23 11:09:22</td>\n",
       "      <td>4</td>\n",
       "      <td>110</td>\n",
       "      <td>309</td>\n",
       "      <td>325757</td>\n",
       "      <td>60500835</td>\n",
       "      <td>2022-01-23</td>\n",
       "      <td>11</td>\n",
       "    </tr>\n",
       "    <tr>\n",
       "      <th>2</th>\n",
       "      <td>2022-01-24 19:40:03</td>\n",
       "      <td>1</td>\n",
       "      <td>10</td>\n",
       "      <td>891</td>\n",
       "      <td>986730</td>\n",
       "      <td>43230531</td>\n",
       "      <td>2022-01-24</td>\n",
       "      <td>19</td>\n",
       "    </tr>\n",
       "    <tr>\n",
       "      <th>3</th>\n",
       "      <td>2022-01-14 18:01:22</td>\n",
       "      <td>5</td>\n",
       "      <td>70</td>\n",
       "      <td>749</td>\n",
       "      <td>868648</td>\n",
       "      <td>46180789</td>\n",
       "      <td>2022-01-14</td>\n",
       "      <td>18</td>\n",
       "    </tr>\n",
       "    <tr>\n",
       "      <th>4</th>\n",
       "      <td>2022-01-19 22:32:43</td>\n",
       "      <td>2</td>\n",
       "      <td>10</td>\n",
       "      <td>469</td>\n",
       "      <td>863523</td>\n",
       "      <td>59266169</td>\n",
       "      <td>2022-01-19</td>\n",
       "      <td>22</td>\n",
       "    </tr>\n",
       "  </tbody>\n",
       "</table>\n",
       "</div>"
      ],
      "text/plain": [
       "                 date  cutlery  tips  order_price     uid  order_id  \\\n",
       "0 2022-01-17 06:38:43        3   100         1001  120967  73041443   \n",
       "1 2022-01-23 11:09:22        4   110          309  325757  60500835   \n",
       "2 2022-01-24 19:40:03        1    10          891  986730  43230531   \n",
       "3 2022-01-14 18:01:22        5    70          749  868648  46180789   \n",
       "4 2022-01-19 22:32:43        2    10          469  863523  59266169   \n",
       "\n",
       "          day  hour  \n",
       "0  2022-01-17     6  \n",
       "1  2022-01-23    11  \n",
       "2  2022-01-24    19  \n",
       "3  2022-01-14    18  \n",
       "4  2022-01-19    22  "
      ]
     },
     "execution_count": 2,
     "metadata": {},
     "output_type": "execute_result"
    }
   ],
   "source": [
    "data = pd.read_csv('source_data.csv')\n",
    "data['date'] = pd.to_datetime(data['date'])\n",
    "data_january = data.loc[data['date'].dt.month == 1]\n",
    "data['day'] = data['date'].dt.date\n",
    "data['hour'] = data['date'].dt.hour\n",
    "\n",
    "data.head()"
   ]
  },
  {
   "cell_type": "markdown",
   "id": "c3d40b05",
   "metadata": {},
   "source": [
    "### 1. У всех ли order_price == 0?"
   ]
  },
  {
   "cell_type": "code",
   "execution_count": 3,
   "id": "0cfc977d",
   "metadata": {},
   "outputs": [
    {
     "data": {
      "text/html": [
       "<div>\n",
       "<style scoped>\n",
       "    .dataframe tbody tr th:only-of-type {\n",
       "        vertical-align: middle;\n",
       "    }\n",
       "\n",
       "    .dataframe tbody tr th {\n",
       "        vertical-align: top;\n",
       "    }\n",
       "\n",
       "    .dataframe thead th {\n",
       "        text-align: right;\n",
       "    }\n",
       "</style>\n",
       "<table border=\"1\" class=\"dataframe\">\n",
       "  <thead>\n",
       "    <tr style=\"text-align: right;\">\n",
       "      <th></th>\n",
       "      <th>date</th>\n",
       "      <th>cutlery</th>\n",
       "      <th>tips</th>\n",
       "      <th>order_price</th>\n",
       "      <th>uid</th>\n",
       "      <th>order_id</th>\n",
       "      <th>day</th>\n",
       "      <th>hour</th>\n",
       "    </tr>\n",
       "  </thead>\n",
       "  <tbody>\n",
       "    <tr>\n",
       "      <th>0</th>\n",
       "      <td>2022-01-17 06:38:43</td>\n",
       "      <td>3</td>\n",
       "      <td>100</td>\n",
       "      <td>1001</td>\n",
       "      <td>120967</td>\n",
       "      <td>73041443</td>\n",
       "      <td>2022-01-17</td>\n",
       "      <td>6</td>\n",
       "    </tr>\n",
       "    <tr>\n",
       "      <th>1</th>\n",
       "      <td>2022-01-23 11:09:22</td>\n",
       "      <td>4</td>\n",
       "      <td>110</td>\n",
       "      <td>309</td>\n",
       "      <td>325757</td>\n",
       "      <td>60500835</td>\n",
       "      <td>2022-01-23</td>\n",
       "      <td>11</td>\n",
       "    </tr>\n",
       "    <tr>\n",
       "      <th>2</th>\n",
       "      <td>2022-01-24 19:40:03</td>\n",
       "      <td>1</td>\n",
       "      <td>10</td>\n",
       "      <td>891</td>\n",
       "      <td>986730</td>\n",
       "      <td>43230531</td>\n",
       "      <td>2022-01-24</td>\n",
       "      <td>19</td>\n",
       "    </tr>\n",
       "    <tr>\n",
       "      <th>3</th>\n",
       "      <td>2022-01-14 18:01:22</td>\n",
       "      <td>5</td>\n",
       "      <td>70</td>\n",
       "      <td>749</td>\n",
       "      <td>868648</td>\n",
       "      <td>46180789</td>\n",
       "      <td>2022-01-14</td>\n",
       "      <td>18</td>\n",
       "    </tr>\n",
       "    <tr>\n",
       "      <th>4</th>\n",
       "      <td>2022-01-19 22:32:43</td>\n",
       "      <td>2</td>\n",
       "      <td>10</td>\n",
       "      <td>469</td>\n",
       "      <td>863523</td>\n",
       "      <td>59266169</td>\n",
       "      <td>2022-01-19</td>\n",
       "      <td>22</td>\n",
       "    </tr>\n",
       "    <tr>\n",
       "      <th>...</th>\n",
       "      <td>...</td>\n",
       "      <td>...</td>\n",
       "      <td>...</td>\n",
       "      <td>...</td>\n",
       "      <td>...</td>\n",
       "      <td>...</td>\n",
       "      <td>...</td>\n",
       "      <td>...</td>\n",
       "    </tr>\n",
       "    <tr>\n",
       "      <th>26052</th>\n",
       "      <td>2022-01-04 05:21:39</td>\n",
       "      <td>4</td>\n",
       "      <td>10</td>\n",
       "      <td>763</td>\n",
       "      <td>182587</td>\n",
       "      <td>85041983</td>\n",
       "      <td>2022-01-04</td>\n",
       "      <td>5</td>\n",
       "    </tr>\n",
       "    <tr>\n",
       "      <th>26053</th>\n",
       "      <td>2022-01-18 14:43:12</td>\n",
       "      <td>3</td>\n",
       "      <td>60</td>\n",
       "      <td>790</td>\n",
       "      <td>187031</td>\n",
       "      <td>47894568</td>\n",
       "      <td>2022-01-18</td>\n",
       "      <td>14</td>\n",
       "    </tr>\n",
       "    <tr>\n",
       "      <th>26054</th>\n",
       "      <td>2022-01-26 18:08:02</td>\n",
       "      <td>1</td>\n",
       "      <td>90</td>\n",
       "      <td>502</td>\n",
       "      <td>247419</td>\n",
       "      <td>75350869</td>\n",
       "      <td>2022-01-26</td>\n",
       "      <td>18</td>\n",
       "    </tr>\n",
       "    <tr>\n",
       "      <th>26055</th>\n",
       "      <td>2022-01-18 05:55:09</td>\n",
       "      <td>2</td>\n",
       "      <td>80</td>\n",
       "      <td>418</td>\n",
       "      <td>474601</td>\n",
       "      <td>79438423</td>\n",
       "      <td>2022-01-18</td>\n",
       "      <td>5</td>\n",
       "    </tr>\n",
       "    <tr>\n",
       "      <th>26056</th>\n",
       "      <td>2022-01-09 01:06:30</td>\n",
       "      <td>2</td>\n",
       "      <td>50</td>\n",
       "      <td>802</td>\n",
       "      <td>898956</td>\n",
       "      <td>87138202</td>\n",
       "      <td>2022-01-09</td>\n",
       "      <td>1</td>\n",
       "    </tr>\n",
       "  </tbody>\n",
       "</table>\n",
       "<p>23303 rows × 8 columns</p>\n",
       "</div>"
      ],
      "text/plain": [
       "                     date  cutlery  tips  order_price     uid  order_id  \\\n",
       "0     2022-01-17 06:38:43        3   100         1001  120967  73041443   \n",
       "1     2022-01-23 11:09:22        4   110          309  325757  60500835   \n",
       "2     2022-01-24 19:40:03        1    10          891  986730  43230531   \n",
       "3     2022-01-14 18:01:22        5    70          749  868648  46180789   \n",
       "4     2022-01-19 22:32:43        2    10          469  863523  59266169   \n",
       "...                   ...      ...   ...          ...     ...       ...   \n",
       "26052 2022-01-04 05:21:39        4    10          763  182587  85041983   \n",
       "26053 2022-01-18 14:43:12        3    60          790  187031  47894568   \n",
       "26054 2022-01-26 18:08:02        1    90          502  247419  75350869   \n",
       "26055 2022-01-18 05:55:09        2    80          418  474601  79438423   \n",
       "26056 2022-01-09 01:06:30        2    50          802  898956  87138202   \n",
       "\n",
       "              day  hour  \n",
       "0      2022-01-17     6  \n",
       "1      2022-01-23    11  \n",
       "2      2022-01-24    19  \n",
       "3      2022-01-14    18  \n",
       "4      2022-01-19    22  \n",
       "...           ...   ...  \n",
       "26052  2022-01-04     5  \n",
       "26053  2022-01-18    14  \n",
       "26054  2022-01-26    18  \n",
       "26055  2022-01-18     5  \n",
       "26056  2022-01-09     1  \n",
       "\n",
       "[23303 rows x 8 columns]"
      ]
     },
     "execution_count": 3,
     "metadata": {},
     "output_type": "execute_result"
    }
   ],
   "source": [
    "data.query('order_price != 0')"
   ]
  },
  {
   "cell_type": "markdown",
   "id": "87bf98a1",
   "metadata": {},
   "source": [
    "Нет, не у всех, в датасете есть строки с ненулевой стоимостью заказа"
   ]
  },
  {
   "cell_type": "markdown",
   "id": "72530cf8",
   "metadata": {},
   "source": [
    "### 2. Какой процент таких заказов за весь январь?"
   ]
  },
  {
   "cell_type": "code",
   "execution_count": 4,
   "id": "f2af01a1",
   "metadata": {},
   "outputs": [
    {
     "data": {
      "text/plain": [
       "10.569136892197873"
      ]
     },
     "execution_count": 4,
     "metadata": {},
     "output_type": "execute_result"
    }
   ],
   "source": [
    "data.query('order_price == 0').shape[0] / data_january.shape[0] * 100"
   ]
  },
  {
   "cell_type": "markdown",
   "id": "927398a4",
   "metadata": {},
   "source": [
    "### 3. Найти, в какие дни у нас есть заказы с ценой == 0"
   ]
  },
  {
   "cell_type": "code",
   "execution_count": 5,
   "id": "52bc0cd1",
   "metadata": {},
   "outputs": [
    {
     "data": {
      "text/plain": [
       "array([datetime.date(2022, 1, 1)], dtype=object)"
      ]
     },
     "execution_count": 5,
     "metadata": {},
     "output_type": "execute_result"
    }
   ],
   "source": [
    "data.query('order_price == 0')['day'].unique()"
   ]
  },
  {
   "cell_type": "markdown",
   "id": "3b71f436",
   "metadata": {},
   "source": [
    "### 4.1 Топ 100-пользователей по частоте заказов"
   ]
  },
  {
   "cell_type": "code",
   "execution_count": 6,
   "id": "8a738547",
   "metadata": {},
   "outputs": [
    {
     "data": {
      "text/plain": [
       "uid\n",
       "653843    3\n",
       "567246    2\n",
       "260478    2\n",
       "222855    2\n",
       "362772    2\n",
       "         ..\n",
       "699510    1\n",
       "699374    1\n",
       "699369    1\n",
       "699338    1\n",
       "699205    1\n",
       "Name: order_id, Length: 100, dtype: int64"
      ]
     },
     "execution_count": 6,
     "metadata": {},
     "output_type": "execute_result"
    }
   ],
   "source": [
    "data.groupby('uid')['order_id'].nunique().sort_values(ascending=False).head(100)"
   ]
  },
  {
   "cell_type": "markdown",
   "id": "6717c08b",
   "metadata": {},
   "source": [
    "### 4.2 Топ 100-пользователей по сумме заказов"
   ]
  },
  {
   "cell_type": "code",
   "execution_count": 7,
   "id": "0e84b1a6",
   "metadata": {},
   "outputs": [
    {
     "data": {
      "text/plain": [
       "uid\n",
       "540487    7742\n",
       "983063    6383\n",
       "733293    6336\n",
       "480081    6278\n",
       "699530    6068\n",
       "          ... \n",
       "796150    5375\n",
       "946028    5370\n",
       "122308    5366\n",
       "674377    5359\n",
       "432900    5359\n",
       "Name: order_price, Length: 100, dtype: int64"
      ]
     },
     "execution_count": 7,
     "metadata": {},
     "output_type": "execute_result"
    }
   ],
   "source": [
    "data.groupby('uid')['order_price'].sum().sort_values(ascending=False).head(100)"
   ]
  },
  {
   "cell_type": "markdown",
   "id": "f8655e07",
   "metadata": {},
   "source": [
    "### 5. Топ-10 пользователей по приборам "
   ]
  },
  {
   "cell_type": "code",
   "execution_count": 8,
   "id": "bc401da0",
   "metadata": {},
   "outputs": [
    {
     "data": {
      "text/plain": [
       "uid\n",
       "540487    52\n",
       "375405    41\n",
       "509314    37\n",
       "260478    37\n",
       "158480    35\n",
       "463468    33\n",
       "800675    33\n",
       "841414    32\n",
       "131564    32\n",
       "664498    32\n",
       "Name: cutlery, dtype: int64"
      ]
     },
     "execution_count": 8,
     "metadata": {},
     "output_type": "execute_result"
    }
   ],
   "source": [
    "data.groupby('uid')['cutlery'].sum().sort_values(ascending=False).head(10)"
   ]
  },
  {
   "cell_type": "markdown",
   "id": "a4574446",
   "metadata": {},
   "source": [
    "### 6. Топ-20 пользователей по чаевым "
   ]
  },
  {
   "cell_type": "code",
   "execution_count": 9,
   "id": "8f3822cf",
   "metadata": {},
   "outputs": [
    {
     "data": {
      "text/plain": [
       "uid\n",
       "540487    980\n",
       "260478    680\n",
       "509314    670\n",
       "375405    660\n",
       "652620    650\n",
       "437801    620\n",
       "323227    620\n",
       "960324    620\n",
       "415022    620\n",
       "463654    620\n",
       "757336    610\n",
       "852397    610\n",
       "923813    610\n",
       "857669    610\n",
       "253222    610\n",
       "401983    610\n",
       "341681    610\n",
       "578890    610\n",
       "755822    610\n",
       "884410    610\n",
       "Name: tips, dtype: int64"
      ]
     },
     "execution_count": 9,
     "metadata": {},
     "output_type": "execute_result"
    }
   ],
   "source": [
    "data.groupby('uid')['tips'].sum().sort_values(ascending=False).head(20)"
   ]
  },
  {
   "cell_type": "markdown",
   "id": "49cbd965",
   "metadata": {},
   "source": [
    "### 7. Топ 20 дней, когда чаевых было  больше всего"
   ]
  },
  {
   "cell_type": "code",
   "execution_count": 10,
   "id": "c503deba",
   "metadata": {},
   "outputs": [
    {
     "data": {
      "text/plain": [
       "day\n",
       "2022-01-26    55290\n",
       "2022-01-27    54560\n",
       "2022-01-01    54390\n",
       "2022-01-24    53760\n",
       "2022-01-25    53030\n",
       "2022-01-02    53000\n",
       "2022-01-05    52700\n",
       "2022-01-31    52600\n",
       "2022-01-16    52220\n",
       "2022-01-12    52200\n",
       "2022-01-17    51800\n",
       "2022-01-30    51700\n",
       "2022-01-07    51470\n",
       "2022-01-08    51410\n",
       "2022-01-28    51370\n",
       "2022-01-03    51230\n",
       "2022-01-21    51210\n",
       "2022-01-29    51150\n",
       "2022-01-06    51100\n",
       "2022-01-20    51050\n",
       "Name: tips, dtype: int64"
      ]
     },
     "execution_count": 10,
     "metadata": {},
     "output_type": "execute_result"
    }
   ],
   "source": [
    "data.groupby('day')['tips'].sum().sort_values(ascending=False).head(20)"
   ]
  },
  {
   "cell_type": "markdown",
   "id": "013bce25",
   "metadata": {},
   "source": [
    "### 8. Какое количество столовых приборов пользуется популярностью?"
   ]
  },
  {
   "cell_type": "code",
   "execution_count": 11,
   "id": "cfaa7645",
   "metadata": {},
   "outputs": [
    {
     "data": {
      "text/plain": [
       "4    6552\n",
       "3    5552\n",
       "2    4869\n",
       "1    4068\n",
       "5    3442\n",
       "6    1574\n",
       "Name: cutlery, dtype: int64"
      ]
     },
     "execution_count": 11,
     "metadata": {},
     "output_type": "execute_result"
    }
   ],
   "source": [
    "data['cutlery'].value_counts()"
   ]
  },
  {
   "cell_type": "markdown",
   "id": "a1b54f93",
   "metadata": {},
   "source": [
    "### 9. Сколько пользователей всего "
   ]
  },
  {
   "cell_type": "code",
   "execution_count": 12,
   "id": "ec5e26c7",
   "metadata": {},
   "outputs": [
    {
     "data": {
      "text/plain": [
       "6433"
      ]
     },
     "execution_count": 12,
     "metadata": {},
     "output_type": "execute_result"
    }
   ],
   "source": [
    "data['uid'].nunique()"
   ]
  },
  {
   "cell_type": "markdown",
   "id": "e3b7a122",
   "metadata": {},
   "source": [
    "### 10. В какое время суток чаще всего осуществляют заказы?"
   ]
  },
  {
   "cell_type": "code",
   "execution_count": 13,
   "id": "79eb4d3f",
   "metadata": {},
   "outputs": [
    {
     "data": {
      "text/plain": [
       "<AxesSubplot:>"
      ]
     },
     "execution_count": 13,
     "metadata": {},
     "output_type": "execute_result"
    },
    {
     "data": {
      "image/png": "[encoded data removed]",
      "text/plain": [
       "<Figure size 432x288 with 1 Axes>"
      ]
     },
     "metadata": {
      "needs_background": "light"
     },
     "output_type": "display_data"
    }
   ],
   "source": [
    "data['hour'].hist(bins=24)"
   ]
  },
  {
   "cell_type": "markdown",
   "id": "3903cef1",
   "metadata": {},
   "source": [
    "В утреннее и вечернее"
   ]
  },
  {
   "cell_type": "markdown",
   "id": "32752f0a",
   "metadata": {},
   "source": [
    "### 11. Топ-10 пользователей, которые потратили наибольшее количество денег в сервисе"
   ]
  },
  {
   "cell_type": "code",
   "execution_count": 16,
   "id": "2e00cb34",
   "metadata": {},
   "outputs": [
    {
     "data": {
      "text/plain": [
       "uid\n",
       "540487    7742\n",
       "983063    6383\n",
       "733293    6336\n",
       "480081    6278\n",
       "699530    6068\n",
       "509314    6051\n",
       "826714    6010\n",
       "463654    5978\n",
       "633000    5978\n",
       "420988    5962\n",
       "Name: order_price, dtype: int64"
      ]
     },
     "execution_count": 16,
     "metadata": {},
     "output_type": "execute_result"
    }
   ],
   "source": [
    "data.groupby('uid')['order_price'].sum().sort_values(ascending=False).head(10)"
   ]
  },
  {
   "cell_type": "markdown",
   "id": "41f1c32f",
   "metadata": {},
   "source": [
    "### 12. Топ 5 дней, в которые было больше всего заказов? (вывести день и количество заказов)"
   ]
  },
  {
   "cell_type": "code",
   "execution_count": 15,
   "id": "7bbbd02a",
   "metadata": {},
   "outputs": [
    {
     "data": {
      "text/plain": [
       "day\n",
       "2022-01-26    762\n",
       "2022-01-03    753\n",
       "2022-01-27    753\n",
       "2022-01-24    752\n",
       "2022-01-25    737\n",
       "Name: order_id, dtype: int64"
      ]
     },
     "execution_count": 15,
     "metadata": {},
     "output_type": "execute_result"
    }
   ],
   "source": [
    "data.loc[data['day'] != dt.date(2022, 1, 1)].groupby('day')['order_id'].nunique().sort_values(ascending=False).head(5)"
   ]
  },
  {
   "cell_type": "code",
   "execution_count": null,
   "id": "6e775690",
   "metadata": {},
   "outputs": [],
   "source": []
  }
 ],
 "metadata": {
  "kernelspec": {
   "display_name": "Python 3 (ipykernel)",
   "language": "python",
   "name": "python3"
  },
  "language_info": {
   "codemirror_mode": {
    "name": "ipython",
    "version": 3
   },
   "file_extension": ".py",
   "mimetype": "text/x-python",
   "name": "python",
   "nbconvert_exporter": "python",
   "pygments_lexer": "ipython3",
   "version": "3.9.12"
  }
 },
 "nbformat": 4,
 "nbformat_minor": 5
}
