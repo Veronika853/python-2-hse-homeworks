{
 "cells": [
  {
   "cell_type": "code",
   "execution_count": 1,
   "id": "d26ef03b",
   "metadata": {},
   "outputs": [],
   "source": [
    "import requests\n",
    "from bs4 import BeautifulSoup"
   ]
  },
  {
   "cell_type": "markdown",
   "id": "2230b7df",
   "metadata": {},
   "source": [
    "## 1. Найти, сколько всего страниц с товарами на этом сайте"
   ]
  },
  {
   "cell_type": "code",
   "execution_count": 2,
   "id": "cb2eedec",
   "metadata": {},
   "outputs": [
    {
     "name": "stdout",
     "output_type": "stream",
     "text": [
      "https://quotes.toscrape.com/\n",
      "https://quotes.toscrape.com/page/2/\n",
      "https://quotes.toscrape.com/page/3/\n",
      "https://quotes.toscrape.com/page/4/\n",
      "https://quotes.toscrape.com/page/5/\n",
      "https://quotes.toscrape.com/page/6/\n",
      "https://quotes.toscrape.com/page/7/\n",
      "https://quotes.toscrape.com/page/8/\n",
      "https://quotes.toscrape.com/page/9/\n",
      "https://quotes.toscrape.com/page/10/\n",
      "\n",
      "На сайте 10 страниц.\n"
     ]
    }
   ],
   "source": [
    "#https://quotes.toscrape.com/page/1/\n",
    "\n",
    "main_page = 'https://quotes.toscrape.com/'\n",
    "url = 'https://quotes.toscrape.com/'\n",
    "pages_cnt = 1\n",
    "while True:\n",
    "    print(url)\n",
    "    response = requests.get(url)\n",
    "    soup = BeautifulSoup(response.text, 'html.parser')\n",
    "    next_button = soup.find('ul', class_='pager').find('li', class_='next')\n",
    "    if next_button: \n",
    "        href = next_button.find('a')['href']\n",
    "        url = main_page[:-1] + href\n",
    "        pages_cnt += 1\n",
    "        \n",
    "    else: \n",
    "        break\n",
    "\n",
    "print()\n",
    "if pages_cnt %  10 == 1: \n",
    "    print(f'На сайте {pages_cnt} страница.')\n",
    "elif pages_cnt % 10 in (2, 3, 4): \n",
    "    print(f'На сайте {pages_cnt} страницы.')\n",
    "else: \n",
    "    print(f'На сайте {pages_cnt} страниц.')"
   ]
  },
  {
   "cell_type": "markdown",
   "id": "11c054c9",
   "metadata": {},
   "source": [
    "## 2. Вывести список наименований и цену товаров со всех страниц каталога"
   ]
  },
  {
   "cell_type": "code",
   "execution_count": 3,
   "id": "1ae42b05",
   "metadata": {},
   "outputs": [
    {
     "name": "stdout",
     "output_type": "stream",
     "text": [
      "1. Short Dress - $24.99\n",
      "2. Patterned Slacks - $29.99\n",
      "3. Short Chiffon Dress - $49.99\n",
      "4. Off-the-shoulder Dress - $59.99\n",
      "5. V-neck Top - $24.99\n",
      "6. Short Chiffon Dress - $49.99\n",
      "7. V-neck Top - $24.99\n",
      "8. V-neck Top - $24.99\n",
      "9. Short Lace Dress - $59.99\n",
      "10. Fitted Dress - $34.99\n",
      "11. V-neck Jumpsuit - $69.99\n",
      "12. Chiffon Dress - $54.99\n",
      "13. Skinny High Waist Jeans - $39.99\n",
      "14. Super Skinny High Jeans - $19.99\n",
      "15. Oversized Denim Jacket - $19.99\n",
      "16. Short Sweatshirt - $24.99\n",
      "17. Long-sleeved Jersey Top - $12.99\n",
      "18. Skinny High Waist Jeans - $39.99\n",
      "19. Short Sweatshirt - $24.99\n",
      "20. Long-sleeved Jersey Top - $12.99\n",
      "21. Long-sleeved Jersey Top - $12.99\n",
      "22. Jersey Dress - $19.99\n",
      "23. Short Sweatshirt - $24.99\n",
      "24. Crinkled Flounced Blouse - $24.99\n",
      "25. Bib Overall Dress - $29.99\n",
      "26. Loose-knit Sweater - $17.99\n",
      "27. Skinny Regular Jeans - $29.99\n",
      "28. Henley-style Top - $12.99\n",
      "29. Joggers - $17.99\n",
      "30. Skirt with Lacing - $34.99\n",
      "31. Top with Tie - $17.99\n",
      "32. Joggers - $34.99\n",
      "33. Chiffon Dress with Flounce - $49.99\n",
      "34. Skirt with Lacing - $34.99\n",
      "35. V-neck Top - $9.99\n",
      "36. Hooded Jacket - $29.99\n",
      "37. Hooded Top - $29.99\n",
      "38. Lyocell-blend Blouse - $34.99\n",
      "39. Bib Overall Dress - $29.99\n",
      "40. Wide-leg Pants - $34.99\n",
      "41. Ankle-length Slim-fit Pants - $24.99\n",
      "42. Short Sweatshirt - $9.99\n",
      "43. V-neck Blouse - $17.99\n",
      "44. Short Skirt - $24.99\n",
      "45. Mesh T-shirt - $17.99\n",
      "46. Blouse with Embroidery - $59.99\n",
      "47. Wide-cut Cotton Top - $34.99\n",
      "48. Pleated Skirt - $54.99\n",
      "49. Coat - $69.99\n",
      "50. Wide-leg Pants - $49.99\n",
      "51. Top - $29.99\n",
      "52. Knit Mohair-blend Sweater - $69.99\n",
      "53. Dress - $69.99\n",
      "54. T-shirt with Embroidery - $29.99\n",
      "55. Blouse with Ruffled Collar - $49.99\n",
      "56. Pants - $49.99\n",
      "57. Jersey Dress - $19.99\n",
      "58. T-shirt - $6.99\n",
      "59. T-shirt - $6.99\n",
      "60. Blazer - $49.99\n"
     ]
    }
   ],
   "source": [
    "import requests\n",
    "from bs4 import BeautifulSoup\n",
    "\n",
    "main_page = 'https://scrapingclub.com/exercise/list_basic/'\n",
    "url = 'https://scrapingclub.com/exercise/list_basic/'\n",
    "page = requests.get(url)\n",
    "soup = BeautifulSoup(page.text, 'html.parser')\n",
    "\n",
    "clothes = []\n",
    "while url:\n",
    "    response = requests.get(url)\n",
    "    soup = BeautifulSoup(response.text, 'html.parser')\n",
    "    next_button = soup.find('ul', class_='pagination').find('a', class_='page-link', text='Next')\n",
    "    if next_button: \n",
    "        href = next_button['href']\n",
    "        url = main_page + href\n",
    "    else: \n",
    "        url = ''\n",
    "    items = soup.find_all('div', class_='col-lg-4 col-md-6 mb-4')\n",
    "    for item in items:\n",
    "        item_name = item.find('h4', class_='card-title').text.strip('\\n')\n",
    "        item_price = item.find('h5').text\n",
    "        clothes.append((item_name, item_price))\n",
    "    \n",
    "        \n",
    "for index, item in enumerate(clothes):\n",
    "    print(f\"{index + 1}. {item[0]} - {item[1]}\")\n",
    "    "
   ]
  },
  {
   "cell_type": "code",
   "execution_count": null,
   "id": "b55f6c81",
   "metadata": {},
   "outputs": [],
   "source": []
  }
 ],
 "metadata": {
  "kernelspec": {
   "display_name": "Python 3 (ipykernel)",
   "language": "python",
   "name": "python3"
  },
  "language_info": {
   "codemirror_mode": {
    "name": "ipython",
    "version": 3
   },
   "file_extension": ".py",
   "mimetype": "text/x-python",
   "name": "python",
   "nbconvert_exporter": "python",
   "pygments_lexer": "ipython3",
   "version": "3.9.12"
  }
 },
 "nbformat": 4,
 "nbformat_minor": 5
}
