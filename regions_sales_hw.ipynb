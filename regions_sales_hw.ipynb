{
 "cells": [
  {
   "cell_type": "code",
   "execution_count": 1,
   "id": "e9c5d28c",
   "metadata": {},
   "outputs": [],
   "source": [
    "import requests\n",
    "import numpy as np\n",
    "import matplotlib.pyplot as plt\n",
    "from bs4 import BeautifulSoup"
   ]
  },
  {
   "cell_type": "markdown",
   "id": "9cd2b1f7",
   "metadata": {},
   "source": [
    "1. Сгенерировать данные\n",
    "2. Посчитать определенные значения, которые бизнес хочет вычислить\n",
    "\n",
    "50 измерений, 5 регионов\n",
    "\n",
    "id, sales (условные единицы), sales_region\n",
    "\n",
    "1,80,Country1\n",
    "\n",
    "105,150,Country2\n",
    "\n",
    "2,50,Country3"
   ]
  },
  {
   "cell_type": "code",
   "execution_count": 2,
   "id": "8097bfcf",
   "metadata": {},
   "outputs": [],
   "source": [
    "def load_countries_name(n):\n",
    "    url = 'https://randomuser.me/api/'\n",
    "    params = {'results': n} \n",
    "    response = requests.get(url, params)\n",
    "    data = response.json()['results']\n",
    "    countries = [user['location']['country'] for user in data]\n",
    "    return countries\n",
    "    \n",
    "def generate_product_id(n):\n",
    "    return np.random.randint(1, 20, n)\n",
    "\n",
    "def generate_region_sales(n):\n",
    "    return np.round(np.random.uniform(low=10.0, high=350.0, size=n), 2)\n",
    "\n",
    "def generate_regions(n, city_names = []):\n",
    "    return np.random.choice(city_names, n)\n",
    "    \n",
    "\n",
    "ROWS_CNT = 50\n",
    "REGIONS_CNT = 5\n",
    "city_names = load_countries_name(REGIONS_CNT)\n",
    "data = np.column_stack((generate_product_id(ROWS_CNT), generate_region_sales(ROWS_CNT), generate_regions(ROWS_CNT, city_names)))\n",
    "\n",
    "np.savetxt('data.txt', data, delimiter=',', fmt='%s')"
   ]
  },
  {
   "cell_type": "code",
   "execution_count": 3,
   "id": "cef1567a",
   "metadata": {},
   "outputs": [],
   "source": [
    "data = np.loadtxt('data.txt', delimiter=',', dtype='str')"
   ]
  },
  {
   "cell_type": "code",
   "execution_count": 4,
   "id": "66d91a4a",
   "metadata": {},
   "outputs": [],
   "source": [
    "unique_ids = np.unique(data[:, 0])\n",
    "unique_regions = np.unique(data[:, 2])\n",
    "sales = data[:, 1].astype(float)"
   ]
  },
  {
   "cell_type": "code",
   "execution_count": 5,
   "id": "fe6963b6",
   "metadata": {},
   "outputs": [],
   "source": [
    "data[:, 1] = data[:, 1].astype(float) # почему-то он не сохраняет колонку числовой"
   ]
  },
  {
   "cell_type": "markdown",
   "id": "c946adff",
   "metadata": {},
   "source": [
    "### Какова общая сумма продаж для всех продуктов?"
   ]
  },
  {
   "cell_type": "code",
   "execution_count": 6,
   "id": "46a1fefd",
   "metadata": {},
   "outputs": [
    {
     "name": "stdout",
     "output_type": "stream",
     "text": [
      "Общая сумма продаж: 8562.340000000002\n"
     ]
    }
   ],
   "source": [
    "print(f'Общая сумма продаж: {sales.sum()}')"
   ]
  },
  {
   "cell_type": "markdown",
   "id": "a1f9e4d4",
   "metadata": {},
   "source": [
    "### Сколько уникальных регионов продаж существует? "
   ]
  },
  {
   "cell_type": "code",
   "execution_count": 7,
   "id": "1639c26f",
   "metadata": {},
   "outputs": [
    {
     "name": "stdout",
     "output_type": "stream",
     "text": [
      "Уникальных регионов: 5\n"
     ]
    }
   ],
   "source": [
    "print(f'Уникальных регионов: {unique_regions.size}')"
   ]
  },
  {
   "cell_type": "markdown",
   "id": "5c3450b5",
   "metadata": {},
   "source": [
    "### Какова средняя сумма продаж на продукт?"
   ]
  },
  {
   "cell_type": "code",
   "execution_count": 8,
   "id": "6e96106a",
   "metadata": {},
   "outputs": [],
   "source": [
    "sales_sum_by_id = []\n",
    "for id_ in unique_ids:\n",
    "    filtered_data = data[data[:, 0] == str(id_)]\n",
    "    column_sum = np.sum(filtered_data[:, 1].astype(float))\n",
    "    sales_sum_by_id.append([id_, column_sum])\n",
    "\n",
    "sales_sum_by_id = np.array(sales_sum_by_id)"
   ]
  },
  {
   "cell_type": "code",
   "execution_count": 9,
   "id": "4da71ab2",
   "metadata": {},
   "outputs": [
    {
     "name": "stdout",
     "output_type": "stream",
     "text": [
      "Средняя сумма продаж на продукт: 230.32473684210527\n"
     ]
    }
   ],
   "source": [
    "print(f'Средняя сумма продаж на продукт: {np.mean(sales_sum_by_id.astype(float))}')"
   ]
  },
  {
   "cell_type": "markdown",
   "id": "262b94b4",
   "metadata": {},
   "source": [
    "### Какой продукт имеет наибольшую сумму продаж?"
   ]
  },
  {
   "cell_type": "code",
   "execution_count": 10,
   "id": "fe336586",
   "metadata": {},
   "outputs": [],
   "source": [
    "max_sales = np.max(sales_sum_by_id[:, 1].astype(float))\n",
    "max_sales_id = sales_sum_by_id[sales_sum_by_id[:, 1] == str(max_sales)][0][0]"
   ]
  },
  {
   "cell_type": "code",
   "execution_count": 11,
   "id": "6e996676",
   "metadata": {},
   "outputs": [
    {
     "name": "stdout",
     "output_type": "stream",
     "text": [
      "Продукт с id 16 имеет наибольшую сумму продаж, равную 982.24\n"
     ]
    }
   ],
   "source": [
    "print(f'Продукт с id {max_sales_id} имеет наибольшую сумму продаж, равную {max_sales}')"
   ]
  },
  {
   "cell_type": "markdown",
   "id": "c9e75170",
   "metadata": {},
   "source": [
    "### Рассчитайте сумму продаж для каждого региона продаж. (постройте круговую гистограмму)"
   ]
  },
  {
   "cell_type": "code",
   "execution_count": 12,
   "id": "2e8ab66c",
   "metadata": {},
   "outputs": [],
   "source": [
    "sales_sum_by_region = []\n",
    "for region in unique_regions:\n",
    "    filtered_data = data[data[:, 2] == str(region)]\n",
    "    column_sum = np.sum(filtered_data[:, 1].astype(float))\n",
    "    sales_sum_by_region.append([region, column_sum])\n",
    "\n",
    "sales_sum_by_region = np.array(sales_sum_by_region)"
   ]
  },
  {
   "cell_type": "code",
   "execution_count": 13,
   "id": "38f431a7",
   "metadata": {},
   "outputs": [
    {
     "data": {
      "text/plain": [
       "array([['Finland', '3009.67'],\n",
       "       ['Netherlands', '1674.22'],\n",
       "       ['New Zealand', '1427.88'],\n",
       "       ['Norway', '725.92'],\n",
       "       ['Ukraine', '1724.65']], dtype='<U32')"
      ]
     },
     "execution_count": 13,
     "metadata": {},
     "output_type": "execute_result"
    }
   ],
   "source": [
    "sales_sum_by_region"
   ]
  },
  {
   "cell_type": "code",
   "execution_count": 14,
   "id": "14267220",
   "metadata": {},
   "outputs": [
    {
     "data": {
      "image/png": "[encoded data removed]",
      "text/plain": [
       "<Figure size 432x288 with 1 Axes>"
      ]
     },
     "metadata": {},
     "output_type": "display_data"
    }
   ],
   "source": [
    "plt.title('Доли продаж в регионах')\n",
    "plt.pie(sales_sum_by_region[:, 1].astype(float), labels=sales_sum_by_region[:, 0], autopct='%1.1f%%')\n",
    "plt.show()"
   ]
  },
  {
   "cell_type": "markdown",
   "id": "4b50bc7d",
   "metadata": {},
   "source": [
    "### Топ 5 продуктов по продажам и построить круговую гистограмму, где будет 6 секторов: топ 5 и все остальное"
   ]
  },
  {
   "cell_type": "code",
   "execution_count": 15,
   "id": "d7dc719a",
   "metadata": {},
   "outputs": [],
   "source": [
    "sort_indexes = np.argsort(-sales_sum_by_id[:, 1].astype(float))"
   ]
  },
  {
   "cell_type": "code",
   "execution_count": 16,
   "id": "4465ab20",
   "metadata": {},
   "outputs": [],
   "source": [
    "sales_sum_by_id_sorted = sales_sum_by_id[(sort_indexes)]"
   ]
  },
  {
   "cell_type": "code",
   "execution_count": 17,
   "id": "8ec786ea",
   "metadata": {},
   "outputs": [
    {
     "data": {
      "text/plain": [
       "array([['16', '982.24'],\n",
       "       ['3', '897.8999999999999'],\n",
       "       ['2', '715.8100000000001'],\n",
       "       ['1', '706.34'],\n",
       "       ['4', '588.27'],\n",
       "       ['14', '530.04'],\n",
       "       ['18', '525.38'],\n",
       "       ['7', '494.21'],\n",
       "       ['9', '439.83000000000004'],\n",
       "       ['6', '406.36'],\n",
       "       ['17', '391.82'],\n",
       "       ['8', '381.63'],\n",
       "       ['19', '373.78'],\n",
       "       ['10', '272.7'],\n",
       "       ['13', '241.14'],\n",
       "       ['5', '191.01'],\n",
       "       ['15', '163.66000000000003'],\n",
       "       ['12', '135.9'],\n",
       "       ['11', '124.32']], dtype='<U32')"
      ]
     },
     "execution_count": 17,
     "metadata": {},
     "output_type": "execute_result"
    }
   ],
   "source": [
    "sales_sum_by_id_sorted"
   ]
  },
  {
   "cell_type": "code",
   "execution_count": 18,
   "id": "fed26905",
   "metadata": {},
   "outputs": [],
   "source": [
    "other_sales_sum = np.sum(sales_sum_by_id_sorted[5:, 1].astype(float))"
   ]
  },
  {
   "cell_type": "code",
   "execution_count": 19,
   "id": "765dfd4c",
   "metadata": {},
   "outputs": [],
   "source": [
    "data_for_chart = np.concatenate([sales_sum_by_id_sorted[:5], np.array([['others', other_sales_sum]])])"
   ]
  },
  {
   "cell_type": "code",
   "execution_count": 20,
   "id": "3927d89f",
   "metadata": {},
   "outputs": [
    {
     "data": {
      "text/plain": [
       "array([['16', '982.24'],\n",
       "       ['3', '897.8999999999999'],\n",
       "       ['2', '715.8100000000001'],\n",
       "       ['1', '706.34'],\n",
       "       ['4', '588.27'],\n",
       "       ['others', '4671.779999999999']], dtype='<U32')"
      ]
     },
     "execution_count": 20,
     "metadata": {},
     "output_type": "execute_result"
    }
   ],
   "source": [
    "data_for_chart"
   ]
  },
  {
   "cell_type": "code",
   "execution_count": 21,
   "id": "a6a38bef",
   "metadata": {},
   "outputs": [
    {
     "data": {
      "image/png": "[encoded data removed]",
      "text/plain": [
       "<Figure size 432x288 with 1 Axes>"
      ]
     },
     "metadata": {},
     "output_type": "display_data"
    }
   ],
   "source": [
    "plt.title('Топ-5 продуктов по продажам')\n",
    "plt.pie(data_for_chart[:, 1].astype(float), labels=data_for_chart[:, 0], autopct='%1.1f%%')\n",
    "plt.show()"
   ]
  },
  {
   "cell_type": "markdown",
   "id": "137fa088",
   "metadata": {},
   "source": [
    "## Добавить колонки с названием валюты и величиной продаж в рублях"
   ]
  },
  {
   "cell_type": "code",
   "execution_count": 22,
   "id": "e0d73812",
   "metadata": {},
   "outputs": [],
   "source": [
    "def get_eu_countries():\n",
    "    main_page = \"https://european-union.europa.eu/principles-countries-history/country-profiles_en\"\n",
    "    page_num = 0\n",
    "    countries = []\n",
    "\n",
    "    while True:\n",
    "        url = main_page + f'?page={page_num}'\n",
    "        response = requests.get(url)\n",
    "        soup = BeautifulSoup(response.content, \"html.parser\")\n",
    "\n",
    "        country_elements = soup.find_all(\"h1\", class_=\"ecl-content-block__title\")\n",
    "        countries.extend([element.get_text(strip=True) for element in country_elements])\n",
    "        next_button = soup.find('li', class_='ecl-pagination__item--next')\n",
    "\n",
    "        if next_button: \n",
    "            page_num += 1\n",
    "        else:\n",
    "            break\n",
    "    return countries"
   ]
  },
  {
   "cell_type": "code",
   "execution_count": 23,
   "id": "f1611410",
   "metadata": {},
   "outputs": [],
   "source": [
    "def get_country_currencies(): \n",
    "    currencies = {}\n",
    "    url = \"https://www.exchangerate-api.com/docs/supported-currencies\"\n",
    "    response = requests.get(url)\n",
    "    soup = BeautifulSoup(response.content, \"html.parser\")\n",
    "    tables = soup.find_all(\"table\")\n",
    "    if tables: \n",
    "        tables = tables[1:]\n",
    "        for table in tables:\n",
    "            for row in table.find_all(\"tr\")[1:]:\n",
    "                columns = row.find_all(\"td\")\n",
    "                currency_code = columns[0].text.strip()\n",
    "                country = columns[2].text.strip()\n",
    "                currencies[country] = currency_code\n",
    "\n",
    "    eu_countries = get_eu_countries()\n",
    "    for country in eu_countries:\n",
    "        currencies[country] = 'EUR'\n",
    "    return currencies"
   ]
  },
  {
   "cell_type": "code",
   "execution_count": 24,
   "id": "f4621df4",
   "metadata": {},
   "outputs": [],
   "source": [
    "def merge_data(dict1, array2, merge_array_index_col): \n",
    "    merged_data = []\n",
    "    \n",
    "    for row in array2:\n",
    "        merge_value = row[merge_array_index_col]\n",
    "        value = dict1.get(merge_value, 'N/A')\n",
    "        merged_row = [*row, value]\n",
    "        merged_data.append(merged_row)\n",
    "    \n",
    "    return merged_data"
   ]
  },
  {
   "cell_type": "code",
   "execution_count": 25,
   "id": "8656d9a9",
   "metadata": {},
   "outputs": [],
   "source": [
    "def get_rub_rates():\n",
    "    response = requests.get(\"https://open.er-api.com/v6/latest/RUB\")\n",
    "    rates = response.json()[\"rates\"]\n",
    "    rates_dict = {}\n",
    "    for currency, rate in rates.items():\n",
    "        rates_dict[currency] = rate\n",
    "\n",
    "    return rates_dict"
   ]
  },
  {
   "cell_type": "code",
   "execution_count": 26,
   "id": "6733b827",
   "metadata": {},
   "outputs": [
    {
     "data": {
      "text/plain": [
       "{'Libya': 'LYD',\n",
       " 'South Sudan': 'SSP',\n",
       " 'Syria': 'SYP',\n",
       " 'Venezuela': 'VES',\n",
       " 'Yemen': 'YER',\n",
       " 'Zimbabwe': 'ZWL',\n",
       " 'United Arab Emirates': 'AED',\n",
       " 'Afghanistan': 'AFN',\n",
       " 'Albania': 'ALL',\n",
       " 'Armenia': 'AMD',\n",
       " 'Netherlands Antilles': 'ANG',\n",
       " 'Angola': 'AOA',\n",
       " 'Argentina': 'ARS',\n",
       " 'Australia': 'AUD',\n",
       " 'Aruba': 'AWG',\n",
       " 'Azerbaijan': 'AZN',\n",
       " 'Bosnia and Herzegovina': 'BAM',\n",
       " 'Barbados': 'BBD',\n",
       " 'Bangladesh': 'BDT',\n",
       " 'Bulgaria': 'EUR',\n",
       " 'Bahrain': 'BHD',\n",
       " 'Burundi': 'BIF',\n",
       " 'Bermuda': 'BMD',\n",
       " 'Brunei': 'BND',\n",
       " 'Bolivia': 'BOB',\n",
       " 'Brazil': 'BRL',\n",
       " 'Bahamas': 'BSD',\n",
       " 'Bhutan': 'BTN',\n",
       " 'Botswana': 'BWP',\n",
       " 'Belarus': 'BYN',\n",
       " 'Belize': 'BZD',\n",
       " 'Canada': 'CAD',\n",
       " 'Democratic Republic of the Congo': 'CDF',\n",
       " 'Switzerland': 'CHF',\n",
       " 'Chile': 'CLP',\n",
       " 'China': 'CNY',\n",
       " 'Colombia': 'COP',\n",
       " 'Costa Rica': 'CRC',\n",
       " 'Cuba': 'CUP',\n",
       " 'Cape Verde': 'CVE',\n",
       " 'Czech Republic': 'CZK',\n",
       " 'Djibouti': 'DJF',\n",
       " 'Denmark': 'EUR',\n",
       " 'Dominican Republic': 'DOP',\n",
       " 'Algeria': 'DZD',\n",
       " 'Egypt': 'EGP',\n",
       " 'Eritrea': 'ERN',\n",
       " 'Ethiopia': 'ETB',\n",
       " 'European Union': 'EUR',\n",
       " 'Fiji': 'FJD',\n",
       " 'Falkland Islands': 'FKP',\n",
       " 'Faroe Islands': 'FOK',\n",
       " 'United Kingdom': 'GBP',\n",
       " 'Georgia': 'GEL',\n",
       " 'Guernsey': 'GGP',\n",
       " 'Ghana': 'GHS',\n",
       " 'Gibraltar': 'GIP',\n",
       " 'The Gambia': 'GMD',\n",
       " 'Guinea': 'GNF',\n",
       " 'Guatemala': 'GTQ',\n",
       " 'Guyana': 'GYD',\n",
       " 'Hong Kong': 'HKD',\n",
       " 'Honduras': 'HNL',\n",
       " 'Croatia': 'EUR',\n",
       " 'Haiti': 'HTG',\n",
       " 'Hungary': 'EUR',\n",
       " 'Indonesia': 'IDR',\n",
       " 'Israel': 'ILS',\n",
       " 'Isle of Man': 'IMP',\n",
       " 'India': 'INR',\n",
       " 'Iraq': 'IQD',\n",
       " 'Iran': 'IRR',\n",
       " 'Iceland': 'ISK',\n",
       " 'Jersey': 'JEP',\n",
       " 'Jamaica': 'JMD',\n",
       " 'Jordan': 'JOD',\n",
       " 'Japan': 'JPY',\n",
       " 'Kenya': 'KES',\n",
       " 'Kyrgyzstan': 'KGS',\n",
       " 'Cambodia': 'KHR',\n",
       " 'Kiribati': 'KID',\n",
       " 'Comoros': 'KMF',\n",
       " 'South Korea': 'KRW',\n",
       " 'Kuwait': 'KWD',\n",
       " 'Cayman Islands': 'KYD',\n",
       " 'Kazakhstan': 'KZT',\n",
       " 'Laos': 'LAK',\n",
       " 'Lebanon': 'LBP',\n",
       " 'Sri Lanka': 'LKR',\n",
       " 'Liberia': 'LRD',\n",
       " 'Lesotho': 'LSL',\n",
       " 'Morocco': 'MAD',\n",
       " 'Moldova': 'MDL',\n",
       " 'Madagascar': 'MGA',\n",
       " 'North Macedonia': 'MKD',\n",
       " 'Myanmar': 'MMK',\n",
       " 'Mongolia': 'MNT',\n",
       " 'Macau': 'MOP',\n",
       " 'Mauritania': 'MRU',\n",
       " 'Mauritius': 'MUR',\n",
       " 'Maldives': 'MVR',\n",
       " 'Malawi': 'MWK',\n",
       " 'Mexico': 'MXN',\n",
       " 'Malaysia': 'MYR',\n",
       " 'Mozambique': 'MZN',\n",
       " 'Namibia': 'NAD',\n",
       " 'Nigeria': 'NGN',\n",
       " 'Nicaragua': 'NIO',\n",
       " 'Norway': 'NOK',\n",
       " 'Nepal': 'NPR',\n",
       " 'New Zealand': 'NZD',\n",
       " 'Oman': 'OMR',\n",
       " 'Panama': 'PAB',\n",
       " 'Peru': 'PEN',\n",
       " 'Papua New Guinea': 'PGK',\n",
       " 'Philippines': 'PHP',\n",
       " 'Pakistan': 'PKR',\n",
       " 'Poland': 'EUR',\n",
       " 'Paraguay': 'PYG',\n",
       " 'Qatar': 'QAR',\n",
       " 'Romania': 'EUR',\n",
       " 'Serbia': 'RSD',\n",
       " 'Russia': 'RUB',\n",
       " 'Rwanda': 'RWF',\n",
       " 'Saudi Arabia': 'SAR',\n",
       " 'Solomon Islands': 'SBD',\n",
       " 'Seychelles': 'SCR',\n",
       " 'Sudan': 'SDG',\n",
       " 'Sweden': 'EUR',\n",
       " 'Singapore': 'SGD',\n",
       " 'Saint Helena': 'SHP',\n",
       " 'Sierra Leone': 'SLE',\n",
       " 'Somalia': 'SOS',\n",
       " 'Suriname': 'SRD',\n",
       " 'São Tomé and Príncipe': 'STN',\n",
       " 'Eswatini': 'SZL',\n",
       " 'Thailand': 'THB',\n",
       " 'Tajikistan': 'TJS',\n",
       " 'Turkmenistan': 'TMT',\n",
       " 'Tunisia': 'TND',\n",
       " 'Tonga': 'TOP',\n",
       " 'Turkey': 'TRY',\n",
       " 'Trinidad and Tobago': 'TTD',\n",
       " 'Tuvalu': 'TVD',\n",
       " 'Taiwan': 'TWD',\n",
       " 'Tanzania': 'TZS',\n",
       " 'Ukraine': 'UAH',\n",
       " 'Uganda': 'UGX',\n",
       " 'United States': 'USD',\n",
       " 'Uruguay': 'UYU',\n",
       " 'Uzbekistan': 'UZS',\n",
       " 'Vietnam': 'VND',\n",
       " 'Vanuatu': 'VUV',\n",
       " 'Samoa': 'WST',\n",
       " 'CEMAC': 'XAF',\n",
       " 'Organisation of Eastern Caribbean States': 'XCD',\n",
       " 'International Monetary Fund': 'XDR',\n",
       " 'CFA': 'XOF',\n",
       " \"Collectivités d'Outre-Mer\": 'XPF',\n",
       " 'South Africa': 'ZAR',\n",
       " 'Zambia': 'ZMW',\n",
       " 'Austria': 'EUR',\n",
       " 'Belgium': 'EUR',\n",
       " 'Cyprus': 'EUR',\n",
       " 'Czechia': 'EUR',\n",
       " 'Estonia': 'EUR',\n",
       " 'Finland': 'EUR',\n",
       " 'France': 'EUR',\n",
       " 'Germany': 'EUR',\n",
       " 'Greece': 'EUR',\n",
       " 'Ireland': 'EUR',\n",
       " 'Italy': 'EUR',\n",
       " 'Latvia': 'EUR',\n",
       " 'Lithuania': 'EUR',\n",
       " 'Luxembourg': 'EUR',\n",
       " 'Malta': 'EUR',\n",
       " 'Netherlands': 'EUR',\n",
       " 'Portugal': 'EUR',\n",
       " 'Slovakia': 'EUR',\n",
       " 'Slovenia': 'EUR',\n",
       " 'Spain': 'EUR'}"
      ]
     },
     "execution_count": 26,
     "metadata": {},
     "output_type": "execute_result"
    }
   ],
   "source": [
    "currency_codes_by_country = get_country_currencies()\n",
    "currency_codes_by_country"
   ]
  },
  {
   "cell_type": "code",
   "execution_count": 27,
   "id": "4a2e4707",
   "metadata": {},
   "outputs": [
    {
     "data": {
      "text/plain": [
       "{'RUB': 1,\n",
       " 'AED': 0.04579,\n",
       " 'AFN': 1.093712,\n",
       " 'ALL': 1.28399,\n",
       " 'AMD': 4.81915,\n",
       " 'ANG': 0.022318,\n",
       " 'AOA': 6.809894,\n",
       " 'ARS': 2.932659,\n",
       " 'AUD': 0.019009,\n",
       " 'AWG': 0.022318,\n",
       " 'AZN': 0.02124,\n",
       " 'BAM': 0.022644,\n",
       " 'BBD': 0.024937,\n",
       " 'BDT': 1.345558,\n",
       " 'BGN': 0.022644,\n",
       " 'BHD': 0.004688,\n",
       " 'BIF': 35.195425,\n",
       " 'BMD': 0.012468,\n",
       " 'BND': 0.016809,\n",
       " 'BOB': 0.086436,\n",
       " 'BRL': 0.061967,\n",
       " 'BSD': 0.012468,\n",
       " 'BTN': 1.030195,\n",
       " 'BWP': 0.169868,\n",
       " 'BYN': 0.036441,\n",
       " 'BZD': 0.024937,\n",
       " 'CAD': 0.01691,\n",
       " 'CDF': 29.030065,\n",
       " 'CHF': 0.011269,\n",
       " 'CLP': 10.006228,\n",
       " 'CNY': 0.087946,\n",
       " 'COP': 55.757734,\n",
       " 'CRC': 6.715373,\n",
       " 'CUP': 0.29924,\n",
       " 'CVE': 1.276603,\n",
       " 'CZK': 0.274609,\n",
       " 'DJF': 2.215884,\n",
       " 'DKK': 0.086373,\n",
       " 'DOP': 0.681994,\n",
       " 'DZD': 1.705584,\n",
       " 'EGP': 0.385779,\n",
       " 'ERN': 0.187025,\n",
       " 'ETB': 0.681437,\n",
       " 'EUR': 0.011578,\n",
       " 'FJD': 0.027945,\n",
       " 'FKP': 0.010067,\n",
       " 'FOK': 0.086373,\n",
       " 'GBP': 0.010067,\n",
       " 'GEL': 0.032297,\n",
       " 'GGP': 0.010067,\n",
       " 'GHS': 0.139972,\n",
       " 'GIP': 0.010067,\n",
       " 'GMD': 0.738539,\n",
       " 'GNF': 107.052838,\n",
       " 'GTQ': 0.097466,\n",
       " 'GYD': 2.640203,\n",
       " 'HKD': 0.097627,\n",
       " 'HNL': 0.306985,\n",
       " 'HRK': 0.087231,\n",
       " 'HTG': 1.770926,\n",
       " 'HUF': 4.328556,\n",
       " 'IDR': 185.346286,\n",
       " 'ILS': 0.046492,\n",
       " 'IMP': 0.010067,\n",
       " 'INR': 1.030205,\n",
       " 'IQD': 16.365673,\n",
       " 'IRR': 524.579115,\n",
       " 'ISK': 1.756165,\n",
       " 'JEP': 0.010067,\n",
       " 'JMD': 1.922735,\n",
       " 'JOD': 0.00884,\n",
       " 'JPY': 1.729808,\n",
       " 'KES': 1.724151,\n",
       " 'KGS': 1.092828,\n",
       " 'KHR': 51.231902,\n",
       " 'KID': 0.019009,\n",
       " 'KMF': 5.695802,\n",
       " 'KRW': 16.435844,\n",
       " 'KWD': 0.003838,\n",
       " 'KYD': 0.01039,\n",
       " 'KZT': 5.570274,\n",
       " 'LAK': 221.333212,\n",
       " 'LBP': 187.024951,\n",
       " 'LKR': 3.782886,\n",
       " 'LRD': 2.132269,\n",
       " 'LSL': 0.239644,\n",
       " 'LYD': 0.060004,\n",
       " 'MAD': 0.12733,\n",
       " 'MDL': 0.221707,\n",
       " 'MGA': 54.950485,\n",
       " 'MKD': 0.713804,\n",
       " 'MMK': 26.240079,\n",
       " 'MNT': 43.599238,\n",
       " 'MOP': 0.100555,\n",
       " 'MRU': 0.429251,\n",
       " 'MUR': 0.569127,\n",
       " 'MVR': 0.192807,\n",
       " 'MWK': 12.841773,\n",
       " 'MXN': 0.221973,\n",
       " 'MYR': 0.057319,\n",
       " 'MZN': 0.798848,\n",
       " 'NAD': 0.239644,\n",
       " 'NGN': 5.764689,\n",
       " 'NIO': 0.456753,\n",
       " 'NOK': 0.136746,\n",
       " 'NPR': 1.648312,\n",
       " 'NZD': 0.020364,\n",
       " 'OMR': 0.004794,\n",
       " 'PAB': 0.012468,\n",
       " 'PEN': 0.045881,\n",
       " 'PGK': 0.044148,\n",
       " 'PHP': 0.696274,\n",
       " 'PKR': 3.580079,\n",
       " 'PLN': 0.052044,\n",
       " 'PYG': 89.944147,\n",
       " 'QAR': 0.045385,\n",
       " 'RON': 0.057474,\n",
       " 'RSD': 1.359526,\n",
       " 'RWF': 14.320321,\n",
       " 'SAR': 0.046756,\n",
       " 'SBD': 0.105834,\n",
       " 'SCR': 0.164938,\n",
       " 'SDG': 6.807269,\n",
       " 'SEK': 0.133246,\n",
       " 'SGD': 0.016809,\n",
       " 'SHP': 0.010067,\n",
       " 'SLE': 0.282988,\n",
       " 'SLL': 282.988004,\n",
       " 'SOS': 7.097748,\n",
       " 'SRD': 0.471045,\n",
       " 'SSP': 11.890888,\n",
       " 'STN': 0.283651,\n",
       " 'SYP': 30.98638,\n",
       " 'SZL': 0.239644,\n",
       " 'THB': 0.430557,\n",
       " 'TJS': 0.136181,\n",
       " 'TMT': 0.043693,\n",
       " 'TND': 0.038655,\n",
       " 'TOP': 0.029414,\n",
       " 'TRY': 0.247846,\n",
       " 'TTD': 0.084774,\n",
       " 'TVD': 0.019009,\n",
       " 'TWD': 0.384211,\n",
       " 'TZS': 29.389467,\n",
       " 'UAH': 0.460895,\n",
       " 'UGX': 46.58559,\n",
       " 'USD': 0.012468,\n",
       " 'UYU': 0.485436,\n",
       " 'UZS': 142.698744,\n",
       " 'VES': 0.324046,\n",
       " 'VND': 293.283625,\n",
       " 'VUV': 1.49899,\n",
       " 'WST': 0.033796,\n",
       " 'XAF': 7.594402,\n",
       " 'XCD': 0.033664,\n",
       " 'XDR': 0.009383,\n",
       " 'XOF': 7.594402,\n",
       " 'XPF': 1.381577,\n",
       " 'YER': 3.124339,\n",
       " 'ZAR': 0.239646,\n",
       " 'ZMW': 0.238734,\n",
       " 'ZWL': 24.714286}"
      ]
     },
     "execution_count": 27,
     "metadata": {},
     "output_type": "execute_result"
    }
   ],
   "source": [
    "rates_dict = get_rub_rates()\n",
    "rates_dict"
   ]
  },
  {
   "cell_type": "code",
   "execution_count": 28,
   "id": "9df65307",
   "metadata": {},
   "outputs": [],
   "source": [
    "data_with_currency_codes = merge_data(currency_codes_by_country, data, 2)"
   ]
  },
  {
   "cell_type": "code",
   "execution_count": 29,
   "id": "16feb861",
   "metadata": {},
   "outputs": [],
   "source": [
    "merged_data = np.array(merge_data(rates_dict, data_with_currency_codes, 3))"
   ]
  },
  {
   "cell_type": "code",
   "execution_count": 30,
   "id": "d7dc9dc8",
   "metadata": {},
   "outputs": [],
   "source": [
    "merged_data[:, 4] = merged_data[:, 1].astype(float) / merged_data[:, 4].astype(float)\n",
    "merged_data[:, 4] = np.round(merged_data[:, 4].astype(float), 4)"
   ]
  },
  {
   "cell_type": "code",
   "execution_count": 31,
   "id": "b5283d5d",
   "metadata": {},
   "outputs": [
    {
     "data": {
      "text/plain": [
       "array([['8', '184.63', 'Finland', 'EUR', '15946.6229'],\n",
       "       ['15', '51.86', 'Ukraine', 'UAH', '112.5202'],\n",
       "       ['6', '305.31', 'Finland', 'EUR', '26369.8394'],\n",
       "       ['19', '347.38', 'Finland', 'EUR', '30003.4548'],\n",
       "       ['7', '327.95', 'Netherlands', 'EUR', '28325.2721'],\n",
       "       ['16', '293.16', 'Ukraine', 'UAH', '636.0668'],\n",
       "       ['7', '166.26', 'New Zealand', 'NZD', '8164.4078'],\n",
       "       ['4', '265.2', 'Ukraine', 'UAH', '575.4022'],\n",
       "       ['13', '180.38', 'Norway', 'NOK', '1319.0879'],\n",
       "       ['17', '125.06', 'Finland', 'EUR', '10801.5201'],\n",
       "       ['8', '149.94', 'Finland', 'EUR', '12950.4232'],\n",
       "       ['14', '57.05', 'Norway', 'NOK', '417.1968'],\n",
       "       ['4', '94.81', 'Ukraine', 'UAH', '205.7085'],\n",
       "       ['16', '170.04', 'New Zealand', 'NZD', '8350.0295'],\n",
       "       ['16', '253.17', 'Finland', 'EUR', '21866.4709'],\n",
       "       ['9', '211.4', 'Ukraine', 'UAH', '458.6728'],\n",
       "       ['3', '67.44', 'Ukraine', 'UAH', '146.324'],\n",
       "       ['15', '17.87', 'Ukraine', 'UAH', '38.7724'],\n",
       "       ['12', '135.9', 'Finland', 'EUR', '11737.7785'],\n",
       "       ['13', '60.76', 'Netherlands', 'EUR', '5247.8839'],\n",
       "       ['1', '16.03', 'Ukraine', 'UAH', '34.7802'],\n",
       "       ['1', '320.92', 'New Zealand', 'NZD', '15759.1829'],\n",
       "       ['18', '54.91', 'Finland', 'EUR', '4742.6153'],\n",
       "       ['2', '176.63', 'Netherlands', 'EUR', '15255.6573'],\n",
       "       ['9', '228.43', 'Netherlands', 'EUR', '19729.6597'],\n",
       "       ['1', '166.78', 'Ukraine', 'UAH', '361.8612'],\n",
       "       ['14', '205.16', 'Ukraine', 'UAH', '445.1339'],\n",
       "       ['3', '206.74', 'Finland', 'EUR', '17856.2792'],\n",
       "       ['19', '26.4', 'Norway', 'NOK', '193.0587'],\n",
       "       ['15', '93.93', 'Netherlands', 'EUR', '8112.8001'],\n",
       "       ['2', '218.73', 'Finland', 'EUR', '18891.8639'],\n",
       "       ['8', '47.06', 'New Zealand', 'NZD', '2310.9409'],\n",
       "       ['4', '228.26', 'Finland', 'EUR', '19714.9767'],\n",
       "       ['14', '267.83', 'New Zealand', 'NZD', '13152.1312'],\n",
       "       ['2', '156.31', 'Netherlands', 'EUR', '13500.6046'],\n",
       "       ['3', '53.38', 'Norway', 'NOK', '390.3588'],\n",
       "       ['2', '164.14', 'Norway', 'NOK', '1200.3276'],\n",
       "       ['18', '304.44', 'Netherlands', 'EUR', '26294.6968'],\n",
       "       ['11', '62.24', 'Ukraine', 'UAH', '135.0416'],\n",
       "       ['3', '325.77', 'Netherlands', 'EUR', '28136.9839'],\n",
       "       ['18', '166.03', 'New Zealand', 'NZD', '8153.1133'],\n",
       "       ['17', '266.76', 'Finland', 'EUR', '23040.2487'],\n",
       "       ['16', '265.87', 'Finland', 'EUR', '22963.3788'],\n",
       "       ['3', '244.57', 'Norway', 'NOK', '1788.4984'],\n",
       "       ['1', '98.73', 'New Zealand', 'NZD', '4848.2616'],\n",
       "       ['6', '101.05', 'Finland', 'EUR', '8727.7595'],\n",
       "       ['5', '191.01', 'New Zealand', 'NZD', '9379.7879'],\n",
       "       ['1', '103.88', 'Finland', 'EUR', '8972.1886'],\n",
       "       ['11', '62.08', 'Finland', 'EUR', '5361.8932'],\n",
       "       ['10', '272.7', 'Ukraine', 'UAH', '591.6749']], dtype='<U32')"
      ]
     },
     "execution_count": 31,
     "metadata": {},
     "output_type": "execute_result"
    }
   ],
   "source": [
    "merged_data"
   ]
  },
  {
   "cell_type": "code",
   "execution_count": 32,
   "id": "c9aeaa62",
   "metadata": {},
   "outputs": [],
   "source": [
    "np.savetxt(\"regions_results.txt\", merged_data, delimiter=\",\", header=\"id,sales,country,currency_code,sales_rub\", fmt='%s')"
   ]
  },
  {
   "cell_type": "code",
   "execution_count": null,
   "id": "5846d5e9",
   "metadata": {},
   "outputs": [],
   "source": []
  }
 ],
 "metadata": {
  "kernelspec": {
   "display_name": "Python 3 (ipykernel)",
   "language": "python",
   "name": "python3"
  },
  "language_info": {
   "codemirror_mode": {
    "name": "ipython",
    "version": 3
   },
   "file_extension": ".py",
   "mimetype": "text/x-python",
   "name": "python",
   "nbconvert_exporter": "python",
   "pygments_lexer": "ipython3",
   "version": "3.9.12"
  }
 },
 "nbformat": 4,
 "nbformat_minor": 5
}
